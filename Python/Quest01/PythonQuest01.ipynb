{
  "nbformat": 4,
  "nbformat_minor": 0,
  "metadata": {
    "colab": {
      "provenance": [],
      "include_colab_link": true
    },
    "kernelspec": {
      "name": "python3",
      "display_name": "Python 3"
    },
    "language_info": {
      "name": "python"
    }
  },
  "cells": [
    {
      "cell_type": "markdown",
      "metadata": {
        "id": "view-in-github",
        "colab_type": "text"
      },
      "source": [
        "<a href=\"https://colab.research.google.com/github/Noruzzang/AIFFEL_QUEST_cr/blob/master/PythonQuest01.ipynb\" target=\"_parent\"><img src=\"https://colab.research.google.com/assets/colab-badge.svg\" alt=\"Open In Colab\"/></a>"
      ]
    },
    {
      "cell_type": "markdown",
      "source": [
        "회문(palindrome)을 만들어서 회문인지 아닌지 확인하는 코드는?  \n",
        "회문일때 ->회문(true)입니다.  \n",
        "회문이 아닐때 -> 회문이 아닙니다(false). 가 출력되야한다.  \n",
        "\n",
        "\n",
        "회문: Level, 기러기, 처럼 앞뒤가 같은 단어/문장\n"
      ],
      "metadata": {
        "id": "hnHsD-8LrilY"
      }
    },
    {
      "cell_type": "code",
      "source": [
        "word = input('단어를 입력하세요: ')\n",
        "\n",
        "is_palindrome = True              # 변수 및 초깃값(True) 설정\n",
        "for i in range(len(word) // 2):   # 입력받은 문자 길이의 절반까지 반복\n",
        "  if word[i]  != word[-1 - i]:    # 단어의 맨 처음과 맨 마지막부터 비교\n",
        "    is_palindrome = False         # 서로 다르면 회문이 아니므로 False\n",
        "    break\n",
        "\n",
        "print(is_palindrome)              # 회문인지 아닌지를 출력\n",
        "\n",
        "\n"
      ],
      "metadata": {
        "colab": {
          "base_uri": "https://localhost:8080/"
        },
        "id": "SAtbtk5HxtoY",
        "outputId": "aeb7f27c-aa38-49ec-c7d0-c4058ca11f66"
      },
      "execution_count": null,
      "outputs": [
        {
          "output_type": "stream",
          "name": "stdout",
          "text": [
            "단어를 입력하세요: 여보안경안보여\n",
            "True\n"
          ]
        }
      ]
    },
    {
      "cell_type": "code",
      "source": [
        "# if - else 사용한다면\n",
        "\n",
        "word = input('단어를 입력하세요: ')\n",
        "\n",
        "is_palindrome = True\n",
        "\n",
        "for i in range(len(word) // 2):\n",
        "    if word[i] == word[-1 -i]:\n",
        "        is_palindrome = True\n",
        "    else:\n",
        "        is_palindrome = False\n",
        "\n",
        "print(is_palindrome)\n"
      ],
      "metadata": {
        "id": "TQ-e4aUf1bbS",
        "colab": {
          "base_uri": "https://localhost:8080/"
        },
        "outputId": "9395b502-52cb-4d27-b962-ec707294419a"
      },
      "execution_count": null,
      "outputs": [
        {
          "output_type": "stream",
          "name": "stdout",
          "text": [
            "단어를 입력하세요: 소주만병만주소\n",
            "True\n"
          ]
        }
      ]
    },
    {
      "cell_type": "markdown",
      "source": [
        "회고: lms에서 학습할때는 하나 하나씩 배워서 잘 몰랐는데\n",
        "여러개를 조합해서 코드를 짜야 해서 어디에 어떤 코드와 명령어가 사용되야 하는지 일일이 생각해보는 것이 힘들었다.  \n",
        "나중에 가서는 이 모든 코드가 쓰이는 방법을 숙지한 상태에서 필요한 걸 바로바로 쓸 수 있도록 해야 프로젝트도 완성하고 진도도 따라갈 수 있을 것 같다.\n",
        "\n",
        "회고:  \n",
        "막상 퀘스트로 해보니 변수 설정하는 것부터 아리쏭했다^^;  \n",
        "여러 방법으로 시도해보면 좋으나, 아직은 그럴 실력이 되지 않아, for문을 사용하는 것도 구글링하며 겨우 완성한 것 같다ㅠㅠ  \n",
        "연습이 더 필요할 듯 하다~~~~"
      ],
      "metadata": {
        "id": "43w_o2PM_2C_"
      }
    }
  ]
}
