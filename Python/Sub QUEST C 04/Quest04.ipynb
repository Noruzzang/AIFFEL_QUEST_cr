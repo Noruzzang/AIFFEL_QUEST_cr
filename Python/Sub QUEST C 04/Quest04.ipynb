{
  "nbformat": 4,
  "nbformat_minor": 0,
  "metadata": {
    "colab": {
      "provenance": [],
      "include_colab_link": true
    },
    "kernelspec": {
      "name": "python3",
      "display_name": "Python 3"
    },
    "language_info": {
      "name": "python"
    }
  },
  "cells": [
    {
      "cell_type": "markdown",
      "metadata": {
        "id": "view-in-github",
        "colab_type": "text"
      },
      "source": [
        "<a href=\"https://colab.research.google.com/github/chanxxw/AIFFEL_QUEST_cr_kw/blob/master/Python/Sub%20QUEST%20C%2004/Quest04.ipynb\" target=\"_parent\"><img src=\"https://colab.research.google.com/assets/colab-badge.svg\" alt=\"Open In Colab\"/></a>"
      ]
    },
    {
      "cell_type": "markdown",
      "source": [
        "# Quest 04. 파이썬을 사용하여 간단한 계산기 프로그램 만들기\n",
        "## 사용자로부터 두 개의 정수와 연산자(+,-,\"*\",/,**)를 입력받아 계산하는 결과를 출력하는 프로그램을 만들어주세요.  \n",
        "## 조건  \n",
        "  + 사용자가 입력한 값이 정수가 아닌 경우 ValueError를 처리하여 적절한 오류 메시지를 출력해야 합니다.  \n",
        "  + 정수가 입력될 때 까지 \"잘못된 입력입니다. 정수를 입력해주세요.\"를 출력하며 다시 입력받기를 시도합니다.  \n",
        "  + 나눗셈 연산시 두 번째 정수가 0인 경우 ZeroDivisionError를 처리하여 적절한 오류 메시지를 출력합니다.  \n",
        "  + 사용자가 지원하지 않는 연산자를 입력한 경우 적절한 오류 메시지를 출력합니다.\n",
        "  + math 모듈을 사용하여 제곱 연산(**)을 지원합니다.  \n",
        "  + 계산기를 통해 계속 계산을 할 것인지 입력받습니다."
      ],
      "metadata": {
        "id": "UBLNaQgVsGU4"
      }
    },
    {
      "cell_type": "code",
      "source": [
        "import math                    # math 모듈을 사용하여 제곱 연산(**)을 지원합니다.\n",
        "\n",
        "def input_calc(prompt):        # num이 정수가 아니면 정수를 입력하도록 하는 함수 input_calc()\n",
        "    while True:\n",
        "        try:\n",
        "            num = int(input(prompt))\n",
        "            return num\n",
        "        except ValueError:                            # 사용자가 입력한 값이 정수가 아닌 경우 ValueError를 처리하여 적절한 오류 메시지를 출력해야 합니다.\n",
        "            print(\"잘못된 입력입니다. 정수를 입력해주세요.\")    # 정수가 입력될 때 까지 \"잘못된 입력입니다. 정수를 입력해주세요.\"를 출력하며 다시 입력받기를 시도합니다.\n",
        "\n",
        "def math_calc(num1, num2):\n",
        "    calc = input('다음의 연산자 중 하나를 입력해주세요(+, -, *, /, **): ')\n",
        "    try:\n",
        "        if calc == '+':                               # 계산기에 필요한 기본 연산자 5개에 대한 정의\n",
        "            result = num1 + num2\n",
        "        elif calc == '-':\n",
        "            result = num1 - num2\n",
        "        elif calc == '*':\n",
        "            result = num1 * num2\n",
        "        elif calc == '/':\n",
        "            result = num1 / num2\n",
        "        elif calc == '**':\n",
        "            result = math.pow(num1, num2)             # math 모듈에서 pow 사용\n",
        "        else:\n",
        "            raise TypeError(\"지원하지 않는 연산자입니다.\")   # 연산자를 잘못 입력한 경우 처음으로 돌아가게 설정은 하지 않았음. 아래로 출력됨\n",
        "        print('계산된 값은 다음과 같습니다:', result)\n",
        "    except ZeroDivisionError: # 나눗셈 연산시 두 번째 정수가 0인 경우 ZeroDivisionError를 처리하여 적절한 오류 메시지를 출력합니다.\n",
        "        print('숫자를 0으로 나눌 수 없습니다.')\n",
        "    except TypeError as e: # 사용자가 지원하지 않는 연산자를 입력한 경우 적절한 오류 메시지를 출력합니다.\n",
        "        print(e)\n",
        "\n",
        "def calc():\n",
        "    while True:\n",
        "        num1 = input_calc('첫 번째 정수를 입력해주세요: ')\n",
        "        num2 = input_calc('두 번째 정수를 입력해주세요: ')\n",
        "        math_calc(num1, num2)\n",
        "\n",
        "        while True:\n",
        "            again = input('계속 계산을 하시겠습니까? (y/n): ') # 계산기를 통해 계속 계산을 할 것인지 입력받습니다.\n",
        "            if again.lower() == 'y': # 대문자로 입력할 수 있으니까 소문자로 변환하여 확인\n",
        "                print('계산기를 다시 실행합니다.')\n",
        "                break\n",
        "            elif again.lower() == 'n':\n",
        "                print('수고하셨습니다.')\n",
        "                return\n",
        "            else:\n",
        "                print(\"잘못된 입력입니다. 'y' 또는 'n'을 입력해주세요.\")\n",
        "\n",
        "\n",
        "calc()\n"
      ],
      "metadata": {
        "id": "5PgkYzOs88Cm",
        "colab": {
          "base_uri": "https://localhost:8080/"
        },
        "outputId": "6681e8cf-f367-4d79-d5d6-5543a3ceac9e"
      },
      "execution_count": 36,
      "outputs": [
        {
          "output_type": "stream",
          "name": "stdout",
          "text": [
            "첫 번째 정수를 입력해주세요: 1\n",
            "두 번째 정수를 입력해주세요: 2\n",
            "다음의 연산자 중 하나를 입력해주세요(+, -, *, /, **): **\n",
            "계산된 값은 다음과 같습니다: 1.0\n",
            "계속 계산을 하시겠습니까? (y/n): y\n",
            "계산기를 다시 실행합니다.\n",
            "첫 번째 정수를 입력해주세요: d\n",
            "잘못된 입력입니다. 정수를 입력해주세요.\n",
            "첫 번째 정수를 입력해주세요: 1\n",
            "두 번째 정수를 입력해주세요: t\n",
            "잘못된 입력입니다. 정수를 입력해주세요.\n",
            "두 번째 정수를 입력해주세요: 5\n",
            "다음의 연산자 중 하나를 입력해주세요(+, -, *, /, **): +\n",
            "계산된 값은 다음과 같습니다: 6\n",
            "계속 계산을 하시겠습니까? (y/n): y\n",
            "계산기를 다시 실행합니다.\n",
            "첫 번째 정수를 입력해주세요: 4\n",
            "두 번째 정수를 입력해주세요: 0\n",
            "다음의 연산자 중 하나를 입력해주세요(+, -, *, /, **): /\n",
            "숫자를 0으로 나눌 수 없습니다.\n",
            "계속 계산을 하시겠습니까? (y/n): 1\n",
            "잘못된 입력입니다. 'y' 또는 'n'을 입력해주세요.\n",
            "계속 계산을 하시겠습니까? (y/n): n\n",
            "수고하셨습니다.\n"
          ]
        }
      ]
    },
    {
      "cell_type": "markdown",
      "source": [
        "# 문제 해결 기록  \n",
        "- 계산을 다 하고 처음으로 돌리는 부분에 대해 구글링을 통해 While문을 사용하여 수정하였다.   \n",
        "- 연산자를 잘못 입력한 경우 다시 입력하도록 해야 했으나, 시간상 완성하지 못하였다.  \n",
        "\n",
        "\n",
        "# 회고\n",
        "- 노은하 : 정수를 다시 받아야 하는 부분에서 막혀서 결국 gpt의 도움을 받아서 어떻게 처리해야 하는지를 붆석하는것으로 대신했다. 그래도 3개의 함수가 있어야 히는것까지는 우리가 확인한 사항이라 내용을 이해하는데 많은 도움이 되었다. 우찬님이 없었으면 내용없이 흘러갈뻔 했다.\n",
        "\n",
        "- 김우찬 🇰 처음 주석을 만들고 코랩을 사용하였더니 Gemini의 도움을 많이 받았다. GPT-4o의 도움도 받았다. 예외처리에 대해 조금 더 이해할 수 있었다. While문과 break 부분에 대한 조금 더 학습이 필요하다. 함수를 나눠서 작성하는 이유에 대해 조금 이해할 수 있었다."
      ],
      "metadata": {
        "id": "o01Sqv7SEb7X"
      }
    }
  ]
}