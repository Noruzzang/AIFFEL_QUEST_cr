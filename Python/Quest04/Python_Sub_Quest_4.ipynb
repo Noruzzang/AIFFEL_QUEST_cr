{
  "nbformat": 4,
  "nbformat_minor": 0,
  "metadata": {
    "colab": {
      "provenance": [],
      "include_colab_link": true
    },
    "kernelspec": {
      "name": "python3",
      "display_name": "Python 3"
    },
    "language_info": {
      "name": "python"
    }
  },
  "cells": [
    {
      "cell_type": "markdown",
      "metadata": {
        "id": "view-in-github",
        "colab_type": "text"
      },
      "source": [
        "<a href=\"https://colab.research.google.com/github/Noruzzang/AIFFEL_QUEST_cr/blob/master/Python_Sub_Quest_4.ipynb\" target=\"_parent\"><img src=\"https://colab.research.google.com/assets/colab-badge.svg\" alt=\"Open In Colab\"/></a>"
      ]
    },
    {
      "cell_type": "code",
      "execution_count": null,
      "metadata": {
        "id": "34-sFmPptGuO"
      },
      "outputs": [],
      "source": [
        "def integer(message):\n",
        "  try:\n",
        "    return int(input(message))\n",
        "  except ValueError:\n",
        "    print(\"잘못된 입력입니다. 정수를 입력해 주세요.\")\n",
        "\n",
        "def calculater(number1, number2, order):\n",
        "  if order == '+':\n",
        "    return number1 + number2\n",
        "  elif order == '-':\n",
        "    return number1 - number2\n",
        "  elif order == '*':\n",
        "    return number1 * number2\n",
        "  elif order == '/':\n",
        "    if number2 == 0:\n",
        "      return number1 / number2\n",
        "  elif order == '**':\n",
        "    return math.pow(number1, number2)\n",
        "  else:\n",
        "    return \"지원하지 않는 연산자입니다.\"\n",
        "\n"
      ]
    },
    {
      "cell_type": "code",
      "source": [
        "number1 = integer(\"첫 번째 정수 : \")\n",
        "number2 = integer(\"두 번째 정수 : \")\n",
        "order = input(\"연산자 입력 (+, -, *, /, **): \")\n",
        "\n",
        "result = calculater(number1, number2, order)\n",
        "print(f\"결과 : {result}\")"
      ],
      "metadata": {
        "colab": {
          "base_uri": "https://localhost:8080/"
        },
        "id": "XLuPwWKNzFVp",
        "outputId": "c13ace21-1d5b-46e9-acc0-898dcc9e42f6"
      },
      "execution_count": null,
      "outputs": [
        {
          "output_type": "stream",
          "name": "stdout",
          "text": [
            "첫 번째 정수 : 4\n",
            "두 번째 정수 : 2\n",
            "연산자 입력 (+, -, *, /, **): /\n",
            "결과 : None\n"
          ]
        }
      ]
    },
    {
      "cell_type": "markdown",
      "source": [
        "**결과**  \n",
        "첫 번째 정수 : 4  \n",
        "두 번째 정수 : 2  \n",
        "연산자 입력 (+, -, *, /, **): /  \n",
        "결과 : None      # 계속되는 오류로 밑에 예외 처리를 추가해서 작성하기로 함"
      ],
      "metadata": {
        "id": "LIcdBlPRAORp"
      }
    },
    {
      "cell_type": "code",
      "source": [
        "import math  # math 모듈 사용\n",
        "\n",
        "def integer(message):  # 정수 함수 정의\n",
        "  try:\n",
        "    return int(input(message))\n",
        "  except ValueError:\n",
        "    print(\"잘못된 입력입니다. 정수를 입력해 주세요.\")\n",
        "    return integer(message)  # 잘못된 입력 시 재귀 호출로 입력 받기\n",
        "\n",
        "def calculater(number1, number2, order):  # 연산 수행 함수\n",
        "  if order == '+':\n",
        "    return number1 + number2\n",
        "  elif order == '-':\n",
        "    return number1 - number2\n",
        "  elif order == '*':\n",
        "    return number1 * number2\n",
        "  elif order == '/':\n",
        "    if number2 == 0:  # 두 번째 정수가 0인 경우\n",
        "      return \"0으로 나눌 수 없습니다.\"  # 오류 메시지 출력\n",
        "    return number1 / number2  # 적절한 나눗셈 메시지 출력\n",
        "  elif order == '**':\n",
        "    return math.pow(number1, number2)  # 제곱 연산 수행\n",
        "  else:\n",
        "    return \"지원하지 않는 연산자입니다.\"  # 지원하지 않는 연산자 오류 메시지\n",
        "\n",
        "number1 = integer(\"첫 번째 정수 : \")\n",
        "number2 = integer(\"두 번째 정수 : \")\n",
        "order = input(\"연산자 입력 (+, -, *, /, **): \")\n",
        "\n",
        "result = calculater(number1, number2, order)  # 연산 수행\n",
        "print(f\"결과 : {result}\")\n",
        "\n",
        "calculator = input(\"계속 계산기를 사용하겠습니까? (y/n) : \")  # 계산기 사용 여부 질문\n",
        "if calculator == 'y':\n",
        "  print(\"계산기를 사용합니다.\")\n",
        "else:\n",
        "  print(\"계산기를 사용하지 않습니다.\")"
      ],
      "metadata": {
        "id": "IE2I_jHn1QrM",
        "colab": {
          "base_uri": "https://localhost:8080/"
        },
        "outputId": "94d94382-7979-4aab-c206-cdb35fa1bcdb"
      },
      "execution_count": null,
      "outputs": [
        {
          "output_type": "stream",
          "name": "stdout",
          "text": [
            "첫 번째 정수 : 3\n",
            "두 번째 정수 : 3\n",
            "연산자 입력 (+, -, *, /, **): **\n",
            "결과 : 27.0\n",
            "계속 계산기를 사용하겠습니까? (y/n) : n\n",
            "계산기를 사용하지 않습니다.\n"
          ]
        }
      ]
    },
    {
      "cell_type": "markdown",
      "source": [
        "**결과**  \n",
        "첫 번째 정수 : 3  \n",
        "두 번째 정수 : 3  \n",
        "연산자 입력 (+, -, *, /, **): **  \n",
        "결과 : 27.0  \n",
        "계속 계산기를 사용하겠습니까? (y/n) : n  \n",
        "계산기를 사용하지 않습니다."
      ],
      "metadata": {
        "id": "yEC2uVeYAW2u"
      }
    },
    {
      "cell_type": "markdown",
      "source": [
        "# 회고\n",
        "\n",
        "임만순 : 처음부터 프로그래밍을 코딩하다 보니 어디서부터 시작해야 하는지 난감했는데, 팀원인 조규원님과 함께 해당 조건을 한 줄씩 코딩할 수 있었습니다. 중간에 오류메시지가 나올 경우 어떤 메시지인지 확인하며 생략된 기호 등을 추가하며 이를 해결했으며, 어떤 조건을 잘못 이해하여 코딩 방향을 잡지 못 했을 때 커뮤니케이션을 통해 이를 극복했습니다.\n",
        "\n",
        "조규원 : 조건이 명확해서 몇번의 오류가 있었지만 벽에 부딛힌다는 느낌은 없었다. 조건에 따라 작성을 잘 한것 같지만 디테일한 부분에서 여러 기능들을 추가할 수 있을 것 같은데 아는게 없어 막 추가하면 오류가 뜰 것 같아 조건만 충족시키도록 작성한 것 같다.\n"
      ],
      "metadata": {
        "id": "IVZHggvA-eED"
      }
    }
  ]
}