{
  "nbformat": 4,
  "nbformat_minor": 0,
  "metadata": {
    "colab": {
      "provenance": [],
      "authorship_tag": "ABX9TyO+ibMRs23Xo7vMYLyXPf9P",
      "include_colab_link": true
    },
    "kernelspec": {
      "name": "python3",
      "display_name": "Python 3"
    },
    "language_info": {
      "name": "python"
    }
  },
  "cells": [
    {
      "cell_type": "markdown",
      "metadata": {
        "id": "view-in-github",
        "colab_type": "text"
      },
      "source": [
        "<a href=\"https://colab.research.google.com/github/Noruzzang/AIFFEL_QUEST_cr/blob/master/Nod_6_1_Project.ipynb\" target=\"_parent\"><img src=\"https://colab.research.google.com/assets/colab-badge.svg\" alt=\"Open In Colab\"/></a>"
      ]
    },
    {
      "cell_type": "code",
      "source": [
        "import sklearn\n",
        "\n",
        "print(sklearn.__version__)"
      ],
      "metadata": {
        "colab": {
          "base_uri": "https://localhost:8080/"
        },
        "id": "y1nsEDavKLuV",
        "outputId": "44c4080b-635e-4300-f30a-edc19980eac5"
      },
      "execution_count": 5,
      "outputs": [
        {
          "output_type": "stream",
          "name": "stdout",
          "text": [
            "1.3.2\n"
          ]
        }
      ]
    },
    {
      "cell_type": "code",
      "execution_count": 19,
      "metadata": {
        "colab": {
          "base_uri": "https://localhost:8080/"
        },
        "id": "ql2ev7omHps2",
        "outputId": "f1405c1c-8e76-44ff-a072-bad7f1ab4fdc"
      },
      "outputs": [
        {
          "output_type": "stream",
          "name": "stdout",
          "text": [
            "Target Names: [0 1 2 3 4 5 6 7 8 9]\n",
            "           0            1            2            3            4   \\\n",
            "count  1797.0  1797.000000  1797.000000  1797.000000  1797.000000   \n",
            "mean      0.0     0.303840     5.204786    11.835838    11.848080   \n",
            "std       0.0     0.907192     4.754826     4.248842     4.287388   \n",
            "min       0.0     0.000000     0.000000     0.000000     0.000000   \n",
            "25%       0.0     0.000000     1.000000    10.000000    10.000000   \n",
            "50%       0.0     0.000000     4.000000    13.000000    13.000000   \n",
            "75%       0.0     0.000000     9.000000    15.000000    15.000000   \n",
            "max       0.0     8.000000    16.000000    16.000000    16.000000   \n",
            "\n",
            "                5            6            7            8            9   ...  \\\n",
            "count  1797.000000  1797.000000  1797.000000  1797.000000  1797.000000  ...   \n",
            "mean      5.781859     1.362270     0.129661     0.005565     1.993879  ...   \n",
            "std       5.666418     3.325775     1.037383     0.094222     3.196160  ...   \n",
            "min       0.000000     0.000000     0.000000     0.000000     0.000000  ...   \n",
            "25%       0.000000     0.000000     0.000000     0.000000     0.000000  ...   \n",
            "50%       4.000000     0.000000     0.000000     0.000000     0.000000  ...   \n",
            "75%      11.000000     0.000000     0.000000     0.000000     3.000000  ...   \n",
            "max      16.000000    16.000000    15.000000     2.000000    16.000000  ...   \n",
            "\n",
            "                54           55           56           57           58  \\\n",
            "count  1797.000000  1797.000000  1797.000000  1797.000000  1797.000000   \n",
            "mean      3.725097     0.206455     0.000556     0.279354     5.557596   \n",
            "std       4.919406     0.984401     0.023590     0.934302     5.103019   \n",
            "min       0.000000     0.000000     0.000000     0.000000     0.000000   \n",
            "25%       0.000000     0.000000     0.000000     0.000000     1.000000   \n",
            "50%       1.000000     0.000000     0.000000     0.000000     4.000000   \n",
            "75%       7.000000     0.000000     0.000000     0.000000    10.000000   \n",
            "max      16.000000    13.000000     1.000000     9.000000    16.000000   \n",
            "\n",
            "                59           60           61           62           63  \n",
            "count  1797.000000  1797.000000  1797.000000  1797.000000  1797.000000  \n",
            "mean     12.089037    11.809126     6.764051     2.067891     0.364496  \n",
            "std       4.374694     4.933947     5.900623     4.090548     1.860122  \n",
            "min       0.000000     0.000000     0.000000     0.000000     0.000000  \n",
            "25%      11.000000    10.000000     0.000000     0.000000     0.000000  \n",
            "50%      13.000000    14.000000     6.000000     0.000000     0.000000  \n",
            "75%      16.000000    16.000000    12.000000     2.000000     0.000000  \n",
            "max      16.000000    16.000000    16.000000    16.000000    16.000000  \n",
            "\n",
            "[8 rows x 64 columns]\n",
            "X_train shape: (1437, 64)\n",
            "X_test shape: (360, 64)\n",
            "y_train shape: (1437,)\n",
            "y_test shape: (360,)\n",
            "Decision Tree Accuracy: 0.8694444444444445\n",
            "Random Forest Accuracy: 0.9861111111111112\n",
            "SVM Accuracy: 0.9888888888888889\n",
            "SGD Classifier Accuracy: 0.9416666666666667\n",
            "Logistic Regression Accuracy: 0.9611111111111111\n"
          ]
        },
        {
          "output_type": "stream",
          "name": "stderr",
          "text": [
            "/usr/local/lib/python3.10/dist-packages/sklearn/linear_model/_logistic.py:460: ConvergenceWarning: lbfgs failed to converge (status=1):\n",
            "STOP: TOTAL NO. of ITERATIONS REACHED LIMIT.\n",
            "\n",
            "Increase the number of iterations (max_iter) or scale the data as shown in:\n",
            "    https://scikit-learn.org/stable/modules/preprocessing.html\n",
            "Please also refer to the documentation for alternative solver options:\n",
            "    https://scikit-learn.org/stable/modules/linear_model.html#logistic-regression\n",
            "  n_iter_i = _check_optimize_result(\n"
          ]
        }
      ],
      "source": [
        "\n",
        "'''필요한 모듈 import하기'''\n",
        "\n",
        "from sklearn.datasets import load_digits\n",
        "from sklearn.model_selection import train_test_split\n",
        "from sklearn.metrics import classification_report\n",
        "import pandas as pd  # pandas 라이브러리를 pd라는 약칭으로 임포트\n",
        "\n",
        "'''데이터 준비 '''\n",
        "\n",
        "digits = load_digits()    # load_digits 메서드를 사용합니다.\n",
        "\n",
        "'''데이터 이해하기'''\n",
        "\n",
        "X = digits.data  # Feature Data 지정하기\n",
        "y = digits.target  # Label 데이터 지정하기\n",
        "\n",
        "#  Target Names 출력\n",
        "target_names = digits.target_names\n",
        "print(\"Target Names:\", target_names) # Target Names 출력하기\n",
        "\n",
        "df = pd.DataFrame(X)\n",
        "description = df.describe() # 데이터 Describe 해 보기\n",
        "print(description)\n",
        "\n",
        "'''모델 학습과 테스트용 문제지와 정답지를 준비해 봅시다.'''\n",
        "\n",
        "X_train, X_test, y_train, y_test = train_test_split(X, y, test_size=0.2, random_state=72)\n",
        "\n",
        "print(\"X_train shape:\", X_train.shape)\n",
        "print(\"X_test shape:\", X_test.shape)\n",
        "print(\"y_train shape:\", y_train.shape)\n",
        "print(\"y_test shape:\", y_test.shape)\n",
        "\n",
        "\n",
        "'''다양한 모델로 학습시켜보기'''\n",
        "\n",
        "from sklearn.tree import DecisionTreeClassifier\n",
        "from sklearn.ensemble import RandomForestClassifier\n",
        "from sklearn.svm import SVC\n",
        "from sklearn.linear_model import SGDClassifier, LogisticRegression\n",
        "from sklearn.metrics import accuracy_score\n",
        "\n",
        "\n",
        "dt = DecisionTreeClassifier()       # Decision Tree\n",
        "dt.fit(X_train, y_train)\n",
        "y_pred_dt = dt.predict(X_test)\n",
        "print(\"Decision Tree Accuracy:\", accuracy_score(y_test, y_pred_dt))\n",
        "\n",
        "\n",
        "rf = RandomForestClassifier()       # RandomForest\n",
        "rf.fit(X_train, y_train)\n",
        "y_pred_rf = rf.predict(X_test)\n",
        "print(\"Random Forest Accuracy:\", accuracy_score(y_test, y_pred_rf))\n",
        "\n",
        "\n",
        "svm = SVC()                         #SVM\n",
        "svm.fit(X_train, y_train)\n",
        "y_pred_svm = svm.predict(X_test)\n",
        "print(\"SVM Accuracy:\", accuracy_score(y_test, y_pred_svm))\n",
        "\n",
        "sgd = SGDClassifier()               #SGD Classifier\n",
        "sgd.fit(X_train, y_train)\n",
        "y_pred_sgd = sgd.predict(X_test)\n",
        "print(\"SGD Classifier Accuracy:\", accuracy_score(y_test, y_pred_sgd))\n",
        "\n",
        "lr = LogisticRegression(max_iter=1000)      #Logistic Regression\n",
        "lr.fit(X_train, y_train)\n",
        "y_pred_lr = lr.predict(X_test)\n",
        "print(\"Logistic Regression Accuracy:\", accuracy_score(y_test, y_pred_lr))\n",
        "\n"
      ]
    },
    {
      "cell_type": "markdown",
      "source": [
        "Increase the number of iterations (max_iter) or scale the data as shown in:\n",
        "    https://scikit-learn.org/stable/modules/preprocessing.html  \n",
        "    Please also refer to the documentation for alternative solver options:\n",
        "    https://scikit-learn.org/stable/modules/linear_model.html#logistic-regression\n",
        "  n_iter_i = _check_optimize_result(  \n",
        "    사실 이 부분은 무슨 말인지 잘 몰라 해석을 부탁하니 max_liter 값을 올리라고 해서 올려서 다시 입력해도 같은 텍스트가 나와 해결을 모르겠습니다.\n",
        "\n",
        "\n",
        "####학습된 모델들의 테스트데이터 예측 결과를 어떻게 해석해야 할까요? 모델의 성능을 평가하는 지표로는 무엇이 좋을까요? sklearn.metrics 에서 제공하는 평가지표 중 적절한 것을 선택해 보세요. 선택하신 이유도 설명해 주세요.\n",
        "\n",
        "Decision Tree Accuracy: 0.8694444444444445\n",
        "Random Forest Accuracy: 0.9861111111111112\n",
        "SVM Accuracy: 0.9888888888888889\n",
        "SGD Classifier Accuracy: 0.9416666666666667\n",
        "Logistic Regression Accuracy: 0.9611111111111111\n",
        "\n",
        "이게 결과인데 이중 가장 수치가 높은 SVM Accuracy가 가장 좋지 않을까요..?\n"
      ],
      "metadata": {
        "id": "rwIwa7CERyzm"
      }
    },
    {
      "cell_type": "code",
      "source": [],
      "metadata": {
        "id": "I6fX6SYGSTem"
      },
      "execution_count": null,
      "outputs": []
    }
  ]
}
