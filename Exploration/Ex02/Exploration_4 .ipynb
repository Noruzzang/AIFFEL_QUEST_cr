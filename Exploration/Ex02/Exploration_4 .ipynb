{
 "cells": [
  {
   "cell_type": "code",
   "execution_count": 1,
   "id": "f01878ce",
   "metadata": {},
   "outputs": [
    {
     "name": "stderr",
     "output_type": "stream",
     "text": [
      "[nltk_data] Downloading package stopwords to /aiffel/nltk_data...\n",
      "[nltk_data]   Package stopwords is already up-to-date!\n",
      "[nltk_data] Downloading package stopwords to /aiffel/nltk_data...\n",
      "[nltk_data]   Package stopwords is already up-to-date!\n"
     ]
    },
    {
     "name": "stdout",
     "output_type": "stream",
     "text": [
      "3.6.5\n",
      "2.6.0\n",
      "1.3.3\n",
      "1.2.0\n"
     ]
    }
   ],
   "source": [
    "from importlib.metadata import version\n",
    "import nltk\n",
    "import tensorflow\n",
    "import summa\n",
    "import pandas as pd\n",
    "import nltk\n",
    "# nltk = \"Natural Language Toolkit\", 자연어 처리를 위한 Python 라이브러리\n",
    "nltk.download('stopwords')\n",
    "# nltk 라이브러리에서 'stopwords'불용어 데이터 다운로드. 불용어(stopwords)는 분석에 큰 의미가 없는 단어들(예: 영어의 \"the\", \"and\", \"is\"\n",
    "from nltk.corpus import stopwords # NLTK의 corpus 모듈에서 불용어 리스트 가져옴\n",
    "\n",
    "import nltk\n",
    "# nltk = \"Natural Language Toolkit\", 자연어 처리를 위한 Python 라이브러리\n",
    "nltk.download('stopwords')\n",
    "# nltk 라이브러리에서 'stopwords'불용어 데이터 다운로드. 불용어(stopwords)는 분석에 큰 의미가 없는 단어들(예: 영어의 \"the\", \"and\", \"is\"\n",
    "\n",
    "import numpy as np\n",
    "import os\n",
    "import re\n",
    "import matplotlib.pyplot as plt\n",
    "from bs4 import BeautifulSoup  # BeautifulSoup은 HTML과 XML 문서를 파싱(구문 분석)하는 라이브러리. 보통 웹에서 크롤링한 데이터를 전처리할 때 사용 \n",
    "from tensorflow.keras.preprocessing.text import Tokenizer # TensorFlow의 Keras API에서 Tokenizer를 가져옴. 텍스트 데이터를 숫자 토큰으로 변환하는 도구\n",
    "from tensorflow.keras.preprocessing.sequence import pad_sequences # TensorFlow의 Keras API에서 pad_sequences를 가져옴. 텍스트 데이터의 길이를 일정하게 맞춰주는 도구\n",
    "import urllib.request # Python 표준 라이브러리의 urllib.request를 불러옴. URL로부터 데이터를 다운로드하거나 요청을 보낼 때 사용\n",
    "import warnings\n",
    "warnings.filterwarnings(\"ignore\", category=UserWarning, module='bs4')\n",
    "# BeautifulSoup(bs4)에서 발생하는 사용자 경고(UserWarning)를 무시하도록 설정\n",
    "\n",
    "print(nltk.__version__)\n",
    "print(tensorflow.__version__)\n",
    "print(pd.__version__)\n",
    "print(version('summa'))"
   ]
  },
  {
   "cell_type": "markdown",
   "id": "e988d129",
   "metadata": {},
   "source": [
    "## Step 1. 데이터 수집하기\n",
    "데이터는 아래 링크에 있는 뉴스 기사 데이터(news_summary_more.csv)를 사용하세요.  \n",
    "아래의 코드로 데이터를 다운로드할 수 있어요.  "
   ]
  },
  {
   "cell_type": "code",
   "execution_count": 2,
   "id": "14e032fc",
   "metadata": {},
   "outputs": [],
   "source": [
    "import urllib.request\n",
    "urllib.request.urlretrieve(\"https://raw.githubusercontent.com/sunnysai12345/News_Summary/master/news_summary_more.csv\", filename=\"news_summary_more.csv\")\n",
    "data = pd.read_csv('news_summary_more.csv', encoding='iso-8859-1')"
   ]
  },
  {
   "cell_type": "code",
   "execution_count": 3,
   "id": "6b4b267b",
   "metadata": {},
   "outputs": [
    {
     "data": {
      "text/html": [
       "<div>\n",
       "<style scoped>\n",
       "    .dataframe tbody tr th:only-of-type {\n",
       "        vertical-align: middle;\n",
       "    }\n",
       "\n",
       "    .dataframe tbody tr th {\n",
       "        vertical-align: top;\n",
       "    }\n",
       "\n",
       "    .dataframe thead th {\n",
       "        text-align: right;\n",
       "    }\n",
       "</style>\n",
       "<table border=\"1\" class=\"dataframe\">\n",
       "  <thead>\n",
       "    <tr style=\"text-align: right;\">\n",
       "      <th></th>\n",
       "      <th>headlines</th>\n",
       "      <th>text</th>\n",
       "    </tr>\n",
       "  </thead>\n",
       "  <tbody>\n",
       "    <tr>\n",
       "      <th>81363</th>\n",
       "      <td>Hindus in Bengal must respond like they did in...</td>\n",
       "      <td>BJP MLA from Hyderabad, T Raja Singh, said, \"H...</td>\n",
       "    </tr>\n",
       "    <tr>\n",
       "      <th>42154</th>\n",
       "      <td>How to download copy of everything Facebook kn...</td>\n",
       "      <td>A copy of everything Facebook knows about a us...</td>\n",
       "    </tr>\n",
       "    <tr>\n",
       "      <th>7850</th>\n",
       "      <td>Anti-pollution campaigner Priyanka criticised ...</td>\n",
       "      <td>Priyanka Chopra was criticised for bursting fi...</td>\n",
       "    </tr>\n",
       "    <tr>\n",
       "      <th>89541</th>\n",
       "      <td>#AkhileshInsultsMartyrs trends after Ex-UP CM'...</td>\n",
       "      <td>After former Uttar Pradesh CM Akhilesh Yadav m...</td>\n",
       "    </tr>\n",
       "    <tr>\n",
       "      <th>57441</th>\n",
       "      <td>Be vigilant against Rohingya influx: Home Mini...</td>\n",
       "      <td>Union Home Minister Rajnath Singh has appealed...</td>\n",
       "    </tr>\n",
       "    <tr>\n",
       "      <th>68487</th>\n",
       "      <td>Never thought I'd see this image in my lifetim...</td>\n",
       "      <td>Reacting to world number one tennis player Raf...</td>\n",
       "    </tr>\n",
       "    <tr>\n",
       "      <th>67974</th>\n",
       "      <td>Cast of four 'Avatar' sequels revealed in new ...</td>\n",
       "      <td>The cast of the sequels of 'Avatar' has been r...</td>\n",
       "    </tr>\n",
       "    <tr>\n",
       "      <th>32887</th>\n",
       "      <td>Chhota Rajan gets life term for killing journa...</td>\n",
       "      <td>A Mumbai court has sentenced gangster Chhota R...</td>\n",
       "    </tr>\n",
       "    <tr>\n",
       "      <th>7008</th>\n",
       "      <td>People said get rid of turban or don't become ...</td>\n",
       "      <td>'Udta Punjab' star Diljit Dosanjh has revealed...</td>\n",
       "    </tr>\n",
       "    <tr>\n",
       "      <th>17149</th>\n",
       "      <td>I can sell fuel for Ã¢ÂÂ¹35-40 if Modi govern...</td>\n",
       "      <td>Yoga guru Baba Ramdev has said if PM Narendra ...</td>\n",
       "    </tr>\n",
       "  </tbody>\n",
       "</table>\n",
       "</div>"
      ],
      "text/plain": [
       "                                               headlines  \\\n",
       "81363  Hindus in Bengal must respond like they did in...   \n",
       "42154  How to download copy of everything Facebook kn...   \n",
       "7850   Anti-pollution campaigner Priyanka criticised ...   \n",
       "89541  #AkhileshInsultsMartyrs trends after Ex-UP CM'...   \n",
       "57441  Be vigilant against Rohingya influx: Home Mini...   \n",
       "68487  Never thought I'd see this image in my lifetim...   \n",
       "67974  Cast of four 'Avatar' sequels revealed in new ...   \n",
       "32887  Chhota Rajan gets life term for killing journa...   \n",
       "7008   People said get rid of turban or don't become ...   \n",
       "17149  I can sell fuel for Ã¢ÂÂ¹35-40 if Modi govern...   \n",
       "\n",
       "                                                    text  \n",
       "81363  BJP MLA from Hyderabad, T Raja Singh, said, \"H...  \n",
       "42154  A copy of everything Facebook knows about a us...  \n",
       "7850   Priyanka Chopra was criticised for bursting fi...  \n",
       "89541  After former Uttar Pradesh CM Akhilesh Yadav m...  \n",
       "57441  Union Home Minister Rajnath Singh has appealed...  \n",
       "68487  Reacting to world number one tennis player Raf...  \n",
       "67974  The cast of the sequels of 'Avatar' has been r...  \n",
       "32887  A Mumbai court has sentenced gangster Chhota R...  \n",
       "7008   'Udta Punjab' star Diljit Dosanjh has revealed...  \n",
       "17149  Yoga guru Baba Ramdev has said if PM Narendra ...  "
      ]
     },
     "execution_count": 3,
     "metadata": {},
     "output_type": "execute_result"
    }
   ],
   "source": [
    "data.sample(10)\n",
    "# headlines와 text만 있어서 굳이 다른 열을 날릴 필요는 없다."
   ]
  },
  {
   "cell_type": "markdown",
   "id": "3292646c",
   "metadata": {},
   "source": [
    "## Step 2. 데이터 전처리하기 (추상적 요약)\n",
    "실습에서 사용된 전처리를 참고하여 각자 필요하다고 생각하는 전처리를 추가 사용하여 텍스트를 정규화 또는 정제해 보세요. 만약, 불용어 제거를 선택한다면 상대적으로 길이가 짧은 요약 데이터에 대해서도 불용어를 제거하는 것이 좋을지 고민해 보세요."
   ]
  },
  {
   "cell_type": "code",
   "execution_count": 4,
   "id": "bfe689b6",
   "metadata": {},
   "outputs": [
    {
     "name": "stdout",
     "output_type": "stream",
     "text": [
      "text 열에서 중복을 배제한 유일한 샘플의 수 : 98360\n",
      "headlines 열에서 중복을 배제한 유일한 샘플의 수 : 98280\n"
     ]
    }
   ],
   "source": [
    "print('text 열에서 중복을 배제한 유일한 샘플의 수 :', data['text'].nunique())\n",
    "print('headlines 열에서 중복을 배제한 유일한 샘플의 수 :', data['headlines'].nunique())"
   ]
  },
  {
   "cell_type": "code",
   "execution_count": 5,
   "id": "8c3f5e4a",
   "metadata": {},
   "outputs": [
    {
     "name": "stdout",
     "output_type": "stream",
     "text": [
      "전체 샘플수 : 98360\n"
     ]
    }
   ],
   "source": [
    "# inplace=True 를 설정하면 DataFrame 타입 값을 return 하지 않고 data 내부를 직접적으로 바꿉니다\n",
    "data.drop_duplicates(subset = ['text'], inplace=True)\n",
    "print('전체 샘플수 :', (len(data)))"
   ]
  },
  {
   "cell_type": "code",
   "execution_count": 6,
   "id": "e1c91d53",
   "metadata": {},
   "outputs": [
    {
     "name": "stdout",
     "output_type": "stream",
     "text": [
      "headlines    0\n",
      "text         0\n",
      "dtype: int64\n"
     ]
    }
   ],
   "source": [
    "print(data.isnull().sum())\n",
    "#결측값 없음"
   ]
  },
  {
   "cell_type": "code",
   "execution_count": 7,
   "id": "7f7b4696",
   "metadata": {},
   "outputs": [
    {
     "name": "stdout",
     "output_type": "stream",
     "text": [
      "정규화 사전의 수:  120\n"
     ]
    }
   ],
   "source": [
    "# contractions 사전 정의 : 영어 축약형(예: \"can't\", \"won't\")과 그것의 풀어 쓴 형태(expanded form)를 매핑하는 사전을 정의\n",
    "contractions = {\"ain't\": \"is not\", \"aren't\": \"are not\",\"can't\": \"cannot\", \"'cause\": \"because\", \"could've\": \"could have\", \"couldn't\": \"could not\",\n",
    "                           \"didn't\": \"did not\",  \"doesn't\": \"does not\", \"don't\": \"do not\", \"hadn't\": \"had not\", \"hasn't\": \"has not\", \"haven't\": \"have not\",\n",
    "                           \"he'd\": \"he would\",\"he'll\": \"he will\", \"he's\": \"he is\", \"how'd\": \"how did\", \"how'd'y\": \"how do you\", \"how'll\": \"how will\", \"how's\": \"how is\",\n",
    "                           \"I'd\": \"I would\", \"I'd've\": \"I would have\", \"I'll\": \"I will\", \"I'll've\": \"I will have\",\"I'm\": \"I am\", \"I've\": \"I have\", \"i'd\": \"i would\",\n",
    "                           \"i'd've\": \"i would have\", \"i'll\": \"i will\",  \"i'll've\": \"i will have\",\"i'm\": \"i am\", \"i've\": \"i have\", \"isn't\": \"is not\", \"it'd\": \"it would\",\n",
    "                           \"it'd've\": \"it would have\", \"it'll\": \"it will\", \"it'll've\": \"it will have\",\"it's\": \"it is\", \"let's\": \"let us\", \"ma'am\": \"madam\",\n",
    "                           \"mayn't\": \"may not\", \"might've\": \"might have\",\"mightn't\": \"might not\",\"mightn't've\": \"might not have\", \"must've\": \"must have\",\n",
    "                           \"mustn't\": \"must not\", \"mustn't've\": \"must not have\", \"needn't\": \"need not\", \"needn't've\": \"need not have\",\"o'clock\": \"of the clock\",\n",
    "                           \"oughtn't\": \"ought not\", \"oughtn't've\": \"ought not have\", \"shan't\": \"shall not\", \"sha'n't\": \"shall not\", \"shan't've\": \"shall not have\",\n",
    "                           \"she'd\": \"she would\", \"she'd've\": \"she would have\", \"she'll\": \"she will\", \"she'll've\": \"she will have\", \"she's\": \"she is\",\n",
    "                           \"should've\": \"should have\", \"shouldn't\": \"should not\", \"shouldn't've\": \"should not have\", \"so've\": \"so have\",\"so's\": \"so as\",\n",
    "                           \"this's\": \"this is\",\"that'd\": \"that would\", \"that'd've\": \"that would have\", \"that's\": \"that is\", \"there'd\": \"there would\",\n",
    "                           \"there'd've\": \"there would have\", \"there's\": \"there is\", \"here's\": \"here is\",\"they'd\": \"they would\", \"they'd've\": \"they would have\",\n",
    "                           \"they'll\": \"they will\", \"they'll've\": \"they will have\", \"they're\": \"they are\", \"they've\": \"they have\", \"to've\": \"to have\",\n",
    "                           \"wasn't\": \"was not\", \"we'd\": \"we would\", \"we'd've\": \"we would have\", \"we'll\": \"we will\", \"we'll've\": \"we will have\", \"we're\": \"we are\",\n",
    "                           \"we've\": \"we have\", \"weren't\": \"were not\", \"what'll\": \"what will\", \"what'll've\": \"what will have\", \"what're\": \"what are\",\n",
    "                           \"what's\": \"what is\", \"what've\": \"what have\", \"when's\": \"when is\", \"when've\": \"when have\", \"where'd\": \"where did\", \"where's\": \"where is\",\n",
    "                           \"where've\": \"where have\", \"who'll\": \"who will\", \"who'll've\": \"who will have\", \"who's\": \"who is\", \"who've\": \"who have\",\n",
    "                           \"why's\": \"why is\", \"why've\": \"why have\", \"will've\": \"will have\", \"won't\": \"will not\", \"won't've\": \"will not have\",\n",
    "                           \"would've\": \"would have\", \"wouldn't\": \"would not\", \"wouldn't've\": \"would not have\", \"y'all\": \"you all\",\n",
    "                           \"y'all'd\": \"you all would\",\"y'all'd've\": \"you all would have\",\"y'all're\": \"you all are\",\"y'all've\": \"you all have\",\n",
    "                           \"you'd\": \"you would\", \"you'd've\": \"you would have\", \"you'll\": \"you will\", \"you'll've\": \"you will have\",\n",
    "                           \"you're\": \"you are\", \"you've\": \"you have\"}\n",
    "\n",
    "print(\"정규화 사전의 수: \", len(contractions))"
   ]
  },
  {
   "cell_type": "code",
   "execution_count": 8,
   "id": "8b7b131d",
   "metadata": {},
   "outputs": [
    {
     "name": "stdout",
     "output_type": "stream",
     "text": [
      "불용어 개수 : 179\n",
      "['i', 'me', 'my', 'myself', 'we', 'our', 'ours', 'ourselves', 'you', \"you're\", \"you've\", \"you'll\", \"you'd\", 'your', 'yours', 'yourself', 'yourselves', 'he', 'him', 'his', 'himself', 'she', \"she's\", 'her', 'hers', 'herself', 'it', \"it's\", 'its', 'itself', 'they', 'them', 'their', 'theirs', 'themselves', 'what', 'which', 'who', 'whom', 'this', 'that', \"that'll\", 'these', 'those', 'am', 'is', 'are', 'was', 'were', 'be', 'been', 'being', 'have', 'has', 'had', 'having', 'do', 'does', 'did', 'doing', 'a', 'an', 'the', 'and', 'but', 'if', 'or', 'because', 'as', 'until', 'while', 'of', 'at', 'by', 'for', 'with', 'about', 'against', 'between', 'into', 'through', 'during', 'before', 'after', 'above', 'below', 'to', 'from', 'up', 'down', 'in', 'out', 'on', 'off', 'over', 'under', 'again', 'further', 'then', 'once', 'here', 'there', 'when', 'where', 'why', 'how', 'all', 'any', 'both', 'each', 'few', 'more', 'most', 'other', 'some', 'such', 'no', 'nor', 'not', 'only', 'own', 'same', 'so', 'than', 'too', 'very', 's', 't', 'can', 'will', 'just', 'don', \"don't\", 'should', \"should've\", 'now', 'd', 'll', 'm', 'o', 're', 've', 'y', 'ain', 'aren', \"aren't\", 'couldn', \"couldn't\", 'didn', \"didn't\", 'doesn', \"doesn't\", 'hadn', \"hadn't\", 'hasn', \"hasn't\", 'haven', \"haven't\", 'isn', \"isn't\", 'ma', 'mightn', \"mightn't\", 'mustn', \"mustn't\", 'needn', \"needn't\", 'shan', \"shan't\", 'shouldn', \"shouldn't\", 'wasn', \"wasn't\", 'weren', \"weren't\", 'won', \"won't\", 'wouldn', \"wouldn't\"]\n"
     ]
    }
   ],
   "source": [
    "# 이 코드는 NLTK 라이브러리를 사용하여 영어 불용어(stopwords)의 개수를 출력하고, 실제 불용어 목록을 보여줌\n",
    "print('불용어 개수 :', len(stopwords.words('english') ))\n",
    "print(stopwords.words('english'))"
   ]
  },
  {
   "cell_type": "code",
   "execution_count": 9,
   "id": "f1980b7d",
   "metadata": {},
   "outputs": [],
   "source": [
    "# 데이터 전처리 함수\n",
    "def preprocess_sentence(sentence, remove_stopwords=True):\n",
    "    sentence = sentence.lower() # 텍스트 소문자화\n",
    "    sentence = BeautifulSoup(sentence, \"lxml\").text # <br />, <a href = ...> 등의 html 태그 제거\n",
    "    sentence = re.sub(r'\\([^)]*\\)', '', sentence) # 괄호로 닫힌 문자열 (...) 제거 Ex) my husband (and myself!) for => my husband for\n",
    "    sentence = re.sub('\"','', sentence) # 쌍따옴표 \" 제거\n",
    "    sentence = ' '.join([contractions[t] if t in contractions else t for t in sentence.split(\" \")]) # 약어 정규화\n",
    "    sentence = re.sub(r\"'s\\b\",\"\", sentence) # 소유격 제거. Ex) roland's -> roland\n",
    "    sentence = re.sub(\"[^a-zA-Z]\", \" \", sentence) # 영어 외 문자(숫자, 특수문자 등) 공백으로 변환\n",
    "    sentence = re.sub('[m]{2,}', 'mm', sentence) # m이 3개 이상이면 2개로 변경. Ex) ummmmmmm yeah -> umm yeah\n",
    "    \n",
    "    # 불용어 제거 (text)\n",
    "    if remove_stopwords:\n",
    "        tokens = ' '.join(word for word in sentence.split() if not word in stopwords.words('english') if len(word) > 1)\n",
    "    # 불용어 미제거 (headlines)\n",
    "    else:\n",
    "        tokens = ' '.join(word for word in sentence.split() if len(word) > 1)\n",
    "    return tokens"
   ]
  },
  {
   "cell_type": "code",
   "execution_count": 10,
   "id": "203ba7a4",
   "metadata": {},
   "outputs": [
    {
     "name": "stdout",
     "output_type": "stream",
     "text": [
      "text 전처리 후 결과:  ['saurav kant alumnus upgrad iiit pg program machine learning artificial intelligence sr systems engineer infosys almost years work experience program upgrad degree career support helped transition data scientist tech mahindra salary hike upgrad online power learning powered lakh careers', 'kunal shah credit card bill payment platform cred gave users chance win free food swiggy one year pranav kaushik delhi techie bagged reward spending cred coins users get one cred coin per rupee bill paid used avail rewards brands like ixigo bookmyshow ubereats cult fit', 'new zealand defeated india wickets fourth odi hamilton thursday win first match five match odi series india lost international match rohit sharma captaincy consecutive victories dating back march match witnessed india getting seventh lowest total odi cricket history', 'aegon life iterm insurance plan customers enjoy tax benefits premiums paid save taxes plan provides life cover age years also customers options insure critical illnesses disability accidental death benefit rider life cover age years', 'speaking sexual harassment allegations rajkumar hirani sonam kapoor said known hirani many years true metoo movement get derailed metoo movement always believe woman case need reserve judgment added hirani accused assistant worked sanju']\n"
     ]
    }
   ],
   "source": [
    "clean_text = []\n",
    "\n",
    "# 각 텍스트(i)를 전처리 함수 preprocess_sentence를 사용해 처리. 전처리된 결과를 clean_text 리스트에 추가.\n",
    "for i in data['text']:\n",
    "    clean_text.append(preprocess_sentence(i))\n",
    "\n",
    "# 전처리된 텍스트 중 앞에서 5개를 출력하여 확인합니다\n",
    "print(\"text 전처리 후 결과: \", clean_text[:5])\n"
   ]
  },
  {
   "cell_type": "code",
   "execution_count": 11,
   "id": "4c81966a",
   "metadata": {},
   "outputs": [
    {
     "name": "stdout",
     "output_type": "stream",
     "text": [
      "headlines 전처리 후 결과:  ['upgrad learner switches to career in ml al with salary hike', 'delhi techie wins free food from swiggy for one year on cred', 'new zealand end rohit sharma led india match winning streak', 'aegon life iterm insurance plan helps customers save tax', 'have known hirani for yrs what if metoo claims are not true sonam']\n"
     ]
    }
   ],
   "source": [
    "# 전체 headline 데이터에 대한 전처리 : 5분 이상 시간이 걸릴 수 있습니다. \n",
    "# headline는 위 if문에서 else로 가서 불용어를 제거하지 않도록 처리함\n",
    "clean_headlines = []\n",
    "\n",
    "for i in data['headlines']:\n",
    "    clean_headlines.append(preprocess_sentence(i, False))\n",
    "\n",
    "print(\"headlines 전처리 후 결과: \", clean_headlines[:5])"
   ]
  },
  {
   "cell_type": "code",
   "execution_count": 12,
   "id": "d279dfc3",
   "metadata": {},
   "outputs": [],
   "source": [
    "data['text'] = clean_text\n",
    "data['headlines'] = clean_headlines\n",
    "\n",
    "# 데이터프레임에서 빈 문자열('')을 Null 값(NaN)으로 변환. \n",
    "data.replace('', np.nan, inplace=True) #inplace=True: 데이터프레임을 원본 그대로 변경. Null 값은 데이터 분석 과정에서 결측값 처리를 용이하게 만듦"
   ]
  },
  {
   "cell_type": "code",
   "execution_count": 13,
   "id": "010fa700",
   "metadata": {},
   "outputs": [
    {
     "data": {
      "text/plain": [
       "headlines    0\n",
       "text         0\n",
       "dtype: int64"
      ]
     },
     "execution_count": 13,
     "metadata": {},
     "output_type": "execute_result"
    }
   ],
   "source": [
    "data.isnull().sum()\n",
    "# 결측값 없음 확인"
   ]
  },
  {
   "cell_type": "code",
   "execution_count": 14,
   "id": "240c5c08",
   "metadata": {},
   "outputs": [
    {
     "name": "stdout",
     "output_type": "stream",
     "text": [
      "텍스트의 최소 길이 : 1\n",
      "텍스트의 최대 길이 : 60\n",
      "텍스트의 평균 길이 : 35.09968483123221\n",
      "헤드라인의 최소 길이 : 1\n",
      "헤드라인의 최대 길이 : 16\n",
      "헤드라인의 평균 길이 : 9.299532330215534\n"
     ]
    },
    {
     "data": {
      "image/png": "[encoded data removed]",
      "text/plain": [
       "<Figure size 432x288 with 2 Axes>"
      ]
     },
     "metadata": {
      "needs_background": "light"
     },
     "output_type": "display_data"
    },
    {
     "data": {
      "image/png": "[encoded data removed]",
      "text/plain": [
       "<Figure size 432x288 with 1 Axes>"
      ]
     },
     "metadata": {
      "needs_background": "light"
     },
     "output_type": "display_data"
    },
    {
     "data": {
      "image/png": "[encoded data removed]",
      "text/plain": [
       "<Figure size 432x288 with 1 Axes>"
      ]
     },
     "metadata": {
      "needs_background": "light"
     },
     "output_type": "display_data"
    }
   ],
   "source": [
    "# 길이 분포 출력\n",
    "import matplotlib.pyplot as plt\n",
    "\n",
    "text_len = [len(s.split()) for s in data['text']]\n",
    "headlines_len = [len(s.split()) for s in data['headlines']]\n",
    "\n",
    "print('텍스트의 최소 길이 : {}'.format(np.min(text_len)))\n",
    "print('텍스트의 최대 길이 : {}'.format(np.max(text_len)))\n",
    "print('텍스트의 평균 길이 : {}'.format(np.mean(text_len)))\n",
    "print('헤드라인의 최소 길이 : {}'.format(np.min(headlines_len)))\n",
    "print('헤드라인의 최대 길이 : {}'.format(np.max(headlines_len)))\n",
    "print('헤드라인의 평균 길이 : {}'.format(np.mean(headlines_len)))\n",
    "\n",
    "plt.subplot(1,2,1)\n",
    "plt.boxplot(text_len)\n",
    "plt.title('text')\n",
    "plt.subplot(1,2,2)\n",
    "plt.boxplot(headlines_len)\n",
    "plt.title('headlines')\n",
    "plt.tight_layout()\n",
    "plt.show()\n",
    "\n",
    "plt.title('text')\n",
    "plt.hist(text_len, bins = 40)\n",
    "plt.xlabel('length of samples')\n",
    "plt.ylabel('number of samples')\n",
    "plt.show()\n",
    "\n",
    "plt.title('headlines')\n",
    "plt.hist(headlines_len, bins = 40)\n",
    "plt.xlabel('length of samples')\n",
    "plt.ylabel('number of samples')\n",
    "plt.show()"
   ]
  },
  {
   "cell_type": "code",
   "execution_count": 15,
   "id": "d46f33b6",
   "metadata": {},
   "outputs": [],
   "source": [
    "# 특별히 많이 초과하는 글자수가 안보일 것 같은데\n",
    "def below_threshold_len(max_len, nested_list):\n",
    "  cnt = 0 # 기준 길이 이하인 샘플의 개수를 세기 위한 변수 cnt 초기화\n",
    "  for s in nested_list:\n",
    "    if(len(s.split()) <= max_len):\n",
    "        cnt = cnt + 1\n",
    "  print('전체 샘플 중 길이가 %s 이하인 샘플의 비율: %s'%(max_len, (cnt / len(nested_list))))"
   ]
  },
  {
   "cell_type": "code",
   "execution_count": 16,
   "id": "28a62fff",
   "metadata": {},
   "outputs": [],
   "source": [
    "text_max_len = 45\n",
    "headlines_max_len = 12\n",
    "# 임의로 변경해봄"
   ]
  },
  {
   "cell_type": "code",
   "execution_count": 17,
   "id": "fc8ff126",
   "metadata": {},
   "outputs": [
    {
     "name": "stdout",
     "output_type": "stream",
     "text": [
      "전체 샘플 중 길이가 45 이하인 샘플의 비율: 0.9967771451809678\n",
      "전체 샘플 중 길이가 12 이하인 샘플의 비율: 0.9880337535583571\n"
     ]
    }
   ],
   "source": [
    "# 주어진 길이 이하의 데이터 개수를 확인하는 함수 호출\n",
    "below_threshold_len(text_max_len, data['text'])  # text_max_len보다 짧은 본문 데이터를 확인하는 함수 호출\n",
    "below_threshold_len(headlines_max_len, data['headlines'])  # headlines_max_len보다 짧은 헤드라인 데이터를 확인하는 함수 호출\n"
   ]
  },
  {
   "cell_type": "code",
   "execution_count": 18,
   "id": "b56b51ac",
   "metadata": {},
   "outputs": [
    {
     "name": "stdout",
     "output_type": "stream",
     "text": [
      "전체 샘플수 : 96871\n"
     ]
    },
    {
     "data": {
      "text/html": [
       "<div>\n",
       "<style scoped>\n",
       "    .dataframe tbody tr th:only-of-type {\n",
       "        vertical-align: middle;\n",
       "    }\n",
       "\n",
       "    .dataframe tbody tr th {\n",
       "        vertical-align: top;\n",
       "    }\n",
       "\n",
       "    .dataframe thead th {\n",
       "        text-align: right;\n",
       "    }\n",
       "</style>\n",
       "<table border=\"1\" class=\"dataframe\">\n",
       "  <thead>\n",
       "    <tr style=\"text-align: right;\">\n",
       "      <th></th>\n",
       "      <th>headlines</th>\n",
       "      <th>text</th>\n",
       "    </tr>\n",
       "  </thead>\n",
       "  <tbody>\n",
       "    <tr>\n",
       "      <th>0</th>\n",
       "      <td>upgrad learner switches to career in ml al wit...</td>\n",
       "      <td>saurav kant alumnus upgrad iiit pg program mac...</td>\n",
       "    </tr>\n",
       "    <tr>\n",
       "      <th>1</th>\n",
       "      <td>delhi techie wins free food from swiggy for on...</td>\n",
       "      <td>kunal shah credit card bill payment platform c...</td>\n",
       "    </tr>\n",
       "    <tr>\n",
       "      <th>2</th>\n",
       "      <td>new zealand end rohit sharma led india match w...</td>\n",
       "      <td>new zealand defeated india wickets fourth odi ...</td>\n",
       "    </tr>\n",
       "    <tr>\n",
       "      <th>3</th>\n",
       "      <td>aegon life iterm insurance plan helps customer...</td>\n",
       "      <td>aegon life iterm insurance plan customers enjo...</td>\n",
       "    </tr>\n",
       "    <tr>\n",
       "      <th>5</th>\n",
       "      <td>rahat fateh ali khan denies getting notice for...</td>\n",
       "      <td>pakistani singer rahat fateh ali khan denied r...</td>\n",
       "    </tr>\n",
       "  </tbody>\n",
       "</table>\n",
       "</div>"
      ],
      "text/plain": [
       "                                           headlines  \\\n",
       "0  upgrad learner switches to career in ml al wit...   \n",
       "1  delhi techie wins free food from swiggy for on...   \n",
       "2  new zealand end rohit sharma led india match w...   \n",
       "3  aegon life iterm insurance plan helps customer...   \n",
       "5  rahat fateh ali khan denies getting notice for...   \n",
       "\n",
       "                                                text  \n",
       "0  saurav kant alumnus upgrad iiit pg program mac...  \n",
       "1  kunal shah credit card bill payment platform c...  \n",
       "2  new zealand defeated india wickets fourth odi ...  \n",
       "3  aegon life iterm insurance plan customers enjo...  \n",
       "5  pakistani singer rahat fateh ali khan denied r...  "
      ]
     },
     "execution_count": 18,
     "metadata": {},
     "output_type": "execute_result"
    }
   ],
   "source": [
    "# text_max_len과 headlines_max_len 길이를 초과하는 샘플 제거\n",
    "data = data[\n",
    "    data['text'].apply(lambda x: len(x.split()) <= text_max_len) &\n",
    "    data['headlines'].apply(lambda x: len(x.split()) <= headlines_max_len)\n",
    "]\n",
    "\n",
    "print('전체 샘플수 :', (len(data)))\n",
    "# 변경된 데이터프레임 확인\n",
    "data.head()"
   ]
  },
  {
   "cell_type": "code",
   "execution_count": 19,
   "id": "1f7afe5d",
   "metadata": {},
   "outputs": [
    {
     "data": {
      "text/html": [
       "<div>\n",
       "<style scoped>\n",
       "    .dataframe tbody tr th:only-of-type {\n",
       "        vertical-align: middle;\n",
       "    }\n",
       "\n",
       "    .dataframe tbody tr th {\n",
       "        vertical-align: top;\n",
       "    }\n",
       "\n",
       "    .dataframe thead th {\n",
       "        text-align: right;\n",
       "    }\n",
       "</style>\n",
       "<table border=\"1\" class=\"dataframe\">\n",
       "  <thead>\n",
       "    <tr style=\"text-align: right;\">\n",
       "      <th></th>\n",
       "      <th>headlines</th>\n",
       "      <th>text</th>\n",
       "      <th>decoder_input</th>\n",
       "      <th>decoder_target</th>\n",
       "    </tr>\n",
       "  </thead>\n",
       "  <tbody>\n",
       "    <tr>\n",
       "      <th>0</th>\n",
       "      <td>upgrad learner switches to career in ml al wit...</td>\n",
       "      <td>saurav kant alumnus upgrad iiit pg program mac...</td>\n",
       "      <td>sostoken upgrad learner switches to career in ...</td>\n",
       "      <td>upgrad learner switches to career in ml al wit...</td>\n",
       "    </tr>\n",
       "    <tr>\n",
       "      <th>1</th>\n",
       "      <td>delhi techie wins free food from swiggy for on...</td>\n",
       "      <td>kunal shah credit card bill payment platform c...</td>\n",
       "      <td>sostoken delhi techie wins free food from swig...</td>\n",
       "      <td>delhi techie wins free food from swiggy for on...</td>\n",
       "    </tr>\n",
       "    <tr>\n",
       "      <th>2</th>\n",
       "      <td>new zealand end rohit sharma led india match w...</td>\n",
       "      <td>new zealand defeated india wickets fourth odi ...</td>\n",
       "      <td>sostoken new zealand end rohit sharma led indi...</td>\n",
       "      <td>new zealand end rohit sharma led india match w...</td>\n",
       "    </tr>\n",
       "    <tr>\n",
       "      <th>3</th>\n",
       "      <td>aegon life iterm insurance plan helps customer...</td>\n",
       "      <td>aegon life iterm insurance plan customers enjo...</td>\n",
       "      <td>sostoken aegon life iterm insurance plan helps...</td>\n",
       "      <td>aegon life iterm insurance plan helps customer...</td>\n",
       "    </tr>\n",
       "    <tr>\n",
       "      <th>5</th>\n",
       "      <td>rahat fateh ali khan denies getting notice for...</td>\n",
       "      <td>pakistani singer rahat fateh ali khan denied r...</td>\n",
       "      <td>sostoken rahat fateh ali khan denies getting n...</td>\n",
       "      <td>rahat fateh ali khan denies getting notice for...</td>\n",
       "    </tr>\n",
       "  </tbody>\n",
       "</table>\n",
       "</div>"
      ],
      "text/plain": [
       "                                           headlines  \\\n",
       "0  upgrad learner switches to career in ml al wit...   \n",
       "1  delhi techie wins free food from swiggy for on...   \n",
       "2  new zealand end rohit sharma led india match w...   \n",
       "3  aegon life iterm insurance plan helps customer...   \n",
       "5  rahat fateh ali khan denies getting notice for...   \n",
       "\n",
       "                                                text  \\\n",
       "0  saurav kant alumnus upgrad iiit pg program mac...   \n",
       "1  kunal shah credit card bill payment platform c...   \n",
       "2  new zealand defeated india wickets fourth odi ...   \n",
       "3  aegon life iterm insurance plan customers enjo...   \n",
       "5  pakistani singer rahat fateh ali khan denied r...   \n",
       "\n",
       "                                       decoder_input  \\\n",
       "0  sostoken upgrad learner switches to career in ...   \n",
       "1  sostoken delhi techie wins free food from swig...   \n",
       "2  sostoken new zealand end rohit sharma led indi...   \n",
       "3  sostoken aegon life iterm insurance plan helps...   \n",
       "5  sostoken rahat fateh ali khan denies getting n...   \n",
       "\n",
       "                                      decoder_target  \n",
       "0  upgrad learner switches to career in ml al wit...  \n",
       "1  delhi techie wins free food from swiggy for on...  \n",
       "2  new zealand end rohit sharma led india match w...  \n",
       "3  aegon life iterm insurance plan helps customer...  \n",
       "5  rahat fateh ali khan denies getting notice for...  "
      ]
     },
     "execution_count": 19,
     "metadata": {},
     "output_type": "execute_result"
    }
   ],
   "source": [
    "# 요약 데이터에는 시작 토큰과 종료 토큰을 추가한다.\n",
    "data['decoder_input'] = data['headlines'].apply(lambda x : 'sostoken '+ x)\n",
    "data['decoder_target'] = data['headlines'].apply(lambda x : x + ' eostoken')\n",
    "data.head()"
   ]
  },
  {
   "cell_type": "code",
   "execution_count": 20,
   "id": "2623e1ae",
   "metadata": {},
   "outputs": [],
   "source": [
    "encoder_input = np.array(data['text']) # 인코더의 입력\n",
    "decoder_input = np.array(data['decoder_input']) # 디코더의 입력\n",
    "decoder_target = np.array(data['decoder_target']) # 디코더의 레이블"
   ]
  },
  {
   "cell_type": "code",
   "execution_count": 21,
   "id": "71b20c02",
   "metadata": {},
   "outputs": [
    {
     "name": "stdout",
     "output_type": "stream",
     "text": [
      "[52871 44155 46791 ... 56138  6300  4277]\n"
     ]
    }
   ],
   "source": [
    "# 인덱스를 생성하고 섞기\n",
    "indices = np.arange(encoder_input.shape[0])  # encoder_input의 첫 번째 축(데이터 수)만큼의 정수 배열을 생성 (0부터 데이터 수-1까지)\n",
    "np.random.shuffle(indices)  # 생성된 인덱스 배열을 무작위로 섞어줌\n",
    "print(indices)  # 무작위로 섞인 인덱스 배열을 출력\n"
   ]
  },
  {
   "cell_type": "code",
   "execution_count": 22,
   "id": "26633356",
   "metadata": {},
   "outputs": [],
   "source": [
    "# 데이터의 순서를 섞기 위해 인덱스를 기반으로 정렬\n",
    "encoder_input = encoder_input[indices]  # 인코더 입력 데이터를 주어진 인덱스 순서로 정렬하여 섞음\n",
    "decoder_input = decoder_input[indices]  # 디코더 입력 데이터를 주어진 인덱스 순서로 정렬하여 섞음\n",
    "decoder_target = decoder_target[indices]  # 디코더 타겟 데이터를 주어진 인덱스 순서로 정렬하여 섞음\n"
   ]
  },
  {
   "cell_type": "code",
   "execution_count": 23,
   "id": "848b538b",
   "metadata": {},
   "outputs": [
    {
     "name": "stdout",
     "output_type": "stream",
     "text": [
      "테스트 데이터의 수 : 19374\n"
     ]
    }
   ],
   "source": [
    "n_of_val = int(len(encoder_input)*0.2)\n",
    "print('테스트 데이터의 수 :', n_of_val)"
   ]
  },
  {
   "cell_type": "code",
   "execution_count": 24,
   "id": "95b382b2",
   "metadata": {},
   "outputs": [
    {
     "name": "stdout",
     "output_type": "stream",
     "text": [
      "훈련 데이터의 개수 : 77497\n",
      "훈련 레이블의 개수 : 77497\n",
      "테스트 데이터의 개수 : 19374\n",
      "테스트 레이블의 개수 : 19374\n"
     ]
    }
   ],
   "source": [
    "# 훈련 데이터와 테스트 데이터를 분리하는 과정\n",
    "encoder_input_train = encoder_input[:-n_of_val]  # 전체 인코더 입력에서 검증 데이터를 제외한 나머지 부분을 훈련 데이터로 설정\n",
    "decoder_input_train = decoder_input[:-n_of_val]  # 전체 디코더 입력에서 검증 데이터를 제외한 나머지 부분을 훈련 데이터로 설정\n",
    "decoder_target_train = decoder_target[:-n_of_val]  # 전체 디코더 타겟에서 검증 데이터를 제외한 나머지 부분을 훈련 타겟으로 설정\n",
    "\n",
    "encoder_input_test = encoder_input[-n_of_val:]  # 전체 인코더 입력에서 마지막 n_of_val 만큼의 데이터를 테스트 데이터로 설정\n",
    "decoder_input_test = decoder_input[-n_of_val:]  # 전체 디코더 입력에서 마지막 n_of_val 만큼의 데이터를 테스트 데이터로 설정\n",
    "decoder_target_test = decoder_target[-n_of_val:]  # 전체 디코더 타겟에서 마지막 n_of_val 만큼의 데이터를 테스트 타겟으로 설정\n",
    "\n",
    "# 분리된 훈련 데이터 및 테스트 데이터의 개수를 출력\n",
    "print('훈련 데이터의 개수 :', len(encoder_input_train))  # 훈련 데이터 개수 출력\n",
    "print('훈련 레이블의 개수 :', len(decoder_input_train))  # 훈련 레이블(디코더 입력) 개수 출력\n",
    "print('테스트 데이터의 개수 :', len(encoder_input_test))  # 테스트 데이터 개수 출력\n",
    "print('테스트 레이블의 개수 :', len(decoder_input_test))  # 테스트 레이블(디코더 입력) 개수 출력\n"
   ]
  },
  {
   "cell_type": "code",
   "execution_count": 25,
   "id": "02609af5",
   "metadata": {},
   "outputs": [],
   "source": [
    "src_tokenizer = Tokenizer() # 토크나이저 정의\n",
    "src_tokenizer.fit_on_texts(encoder_input_train) # 입력된 데이터로부터 단어 집합 생성"
   ]
  },
  {
   "cell_type": "code",
   "execution_count": 26,
   "id": "e1d0faa9",
   "metadata": {},
   "outputs": [
    {
     "name": "stdout",
     "output_type": "stream",
     "text": [
      "단어 집합(vocabulary)의 크기 : 69081\n",
      "등장 빈도가 6번 이하인 희귀 단어의 수: 47068\n",
      "단어 집합에서 희귀 단어를 제외시킬 경우의 단어 집합의 크기 22013\n",
      "단어 집합에서 희귀 단어의 비율: 68.1345087650729\n",
      "전체 등장 빈도에서 희귀 단어 등장 빈도 비율: 3.5200445602271278\n"
     ]
    }
   ],
   "source": [
    "threshold = 7\n",
    "total_cnt = len(src_tokenizer.word_index) # 단어의 수\n",
    "rare_cnt = 0 # 등장 빈도수가 threshold보다 작은 단어의 개수를 카운트\n",
    "total_freq = 0 # 훈련 데이터의 전체 단어 빈도수 총 합\n",
    "rare_freq = 0 # 등장 빈도수가 threshold보다 작은 단어의 등장 빈도수의 총 합\n",
    "\n",
    "# 단어와 빈도수의 쌍(pair)을 key와 value로 받는다.\n",
    "for key, value in src_tokenizer.word_counts.items():\n",
    "    total_freq = total_freq + value\n",
    "\n",
    "    # 단어의 등장 빈도수가 threshold보다 작으면\n",
    "    if(value < threshold):\n",
    "        rare_cnt = rare_cnt + 1\n",
    "        rare_freq = rare_freq + value\n",
    "\n",
    "print('단어 집합(vocabulary)의 크기 :', total_cnt)\n",
    "print('등장 빈도가 %s번 이하인 희귀 단어의 수: %s'%(threshold - 1, rare_cnt))\n",
    "print('단어 집합에서 희귀 단어를 제외시킬 경우의 단어 집합의 크기 %s'%(total_cnt - rare_cnt))\n",
    "print(\"단어 집합에서 희귀 단어의 비율:\", (rare_cnt / total_cnt)*100)\n",
    "print(\"전체 등장 빈도에서 희귀 단어 등장 빈도 비율:\", (rare_freq / total_freq)*100)"
   ]
  },
  {
   "cell_type": "code",
   "execution_count": 27,
   "id": "3bc9f124",
   "metadata": {},
   "outputs": [],
   "source": [
    "src_vocab = 8000\n",
    "src_tokenizer = Tokenizer(num_words=src_vocab) # 단어 집합의 크기를 8,000으로 제한\n",
    "src_tokenizer.fit_on_texts(encoder_input_train) # 단어 집합 재생성"
   ]
  },
  {
   "cell_type": "code",
   "execution_count": 28,
   "id": "c0bb4c86",
   "metadata": {},
   "outputs": [
    {
     "name": "stdout",
     "output_type": "stream",
     "text": [
      "[[2199, 1862, 18, 398, 497, 628, 713, 2932, 2126, 2589, 1117, 2760, 738, 54, 431, 223, 136, 347, 1385, 613, 1862, 163, 978, 640, 18, 695, 2199, 929, 1480, 356, 110, 2, 1862, 18, 18, 1279], [390, 72, 24, 2055, 891, 178, 365, 148, 244, 178, 1481, 891, 35, 475, 30, 5944, 1481, 24, 484, 15, 6, 1386, 4735, 613, 1481, 24, 1185, 1283, 72], [6141, 3035, 2258, 82, 2708, 40, 480, 1353, 793, 5276, 1503, 143, 344, 769, 3218, 1848, 256, 4, 35, 1, 3235, 34, 3118, 342, 708, 2130]]\n"
     ]
    }
   ],
   "source": [
    "# 텍스트 시퀀스를 정수 시퀀스로 변환\n",
    "encoder_input_train = src_tokenizer.texts_to_sequences(encoder_input_train) \n",
    "encoder_input_test = src_tokenizer.texts_to_sequences(encoder_input_test)\n",
    "\n",
    "# 잘 진행되었는지 샘플 출력\n",
    "print(encoder_input_train[:3])"
   ]
  },
  {
   "cell_type": "code",
   "execution_count": 29,
   "id": "6f9b526f",
   "metadata": {},
   "outputs": [],
   "source": [
    "# 타겟 시퀀스 토크나이저 정의\n",
    "tar_tokenizer = Tokenizer()  # 전체 어휘를 학습할 타겟 토크나이저 객체 생성\n",
    "\n",
    "# 디코더 입력 훈련 데이터에 대해 토크나이저 학습\n",
    "tar_tokenizer.fit_on_texts(decoder_input_train)  # 디코더 입력 훈련 데이터를 기반으로 각 단어에 정수 인덱스를 할당하도록 토크나이저 학습\n"
   ]
  },
  {
   "cell_type": "code",
   "execution_count": 30,
   "id": "d8bde478",
   "metadata": {},
   "outputs": [
    {
     "name": "stdout",
     "output_type": "stream",
     "text": [
      "단어 집합(vocabulary)의 크기 : 29971\n",
      "등장 빈도가 5번 이하인 희귀 단어의 수: 19621\n",
      "단어 집합에서 희귀 단어를 제외시킬 경우의 단어 집합의 크기 10350\n",
      "단어 집합에서 희귀 단어의 비율: 65.46661773047279\n",
      "전체 등장 빈도에서 희귀 단어 등장 빈도 비율: 4.717415652567862\n"
     ]
    }
   ],
   "source": [
    "threshold = 6\n",
    "total_cnt = len(tar_tokenizer.word_index) # 단어의 수\n",
    "rare_cnt = 0 # 등장 빈도수가 threshold보다 작은 단어의 개수를 카운트\n",
    "total_freq = 0 # 훈련 데이터의 전체 단어 빈도수 총 합\n",
    "rare_freq = 0 # 등장 빈도수가 threshold보다 작은 단어의 등장 빈도수의 총 합\n",
    "\n",
    "# 단어와 빈도수의 쌍(pair)을 key와 value로 받는다.\n",
    "for key, value in tar_tokenizer.word_counts.items():\n",
    "    total_freq = total_freq + value\n",
    "\n",
    "    # 단어의 등장 빈도수가 threshold보다 작으면\n",
    "    if(value < threshold):\n",
    "        rare_cnt = rare_cnt + 1\n",
    "        rare_freq = rare_freq + value\n",
    "\n",
    "print('단어 집합(vocabulary)의 크기 :', total_cnt)\n",
    "print('등장 빈도가 %s번 이하인 희귀 단어의 수: %s'%(threshold - 1, rare_cnt))\n",
    "print('단어 집합에서 희귀 단어를 제외시킬 경우의 단어 집합의 크기 %s'%(total_cnt - rare_cnt))\n",
    "print(\"단어 집합에서 희귀 단어의 비율:\", (rare_cnt / total_cnt)*100)\n",
    "print(\"전체 등장 빈도에서 희귀 단어 등장 빈도 비율:\", (rare_freq / total_freq)*100)"
   ]
  },
  {
   "cell_type": "code",
   "execution_count": 31,
   "id": "61eeff71",
   "metadata": {},
   "outputs": [
    {
     "name": "stdout",
     "output_type": "stream",
     "text": [
      "input\n",
      "input  [[1, 923, 49, 14, 1128], [1, 197, 3, 1375, 401, 4, 397, 782, 60], [1, 44, 77, 33, 492, 6, 303], [1, 633, 3, 66, 5, 209, 463], [1, 8, 1634, 6, 65, 1903, 466, 23, 676]]\n",
      "target\n",
      "decoder  [[923, 49, 14, 1128, 2], [197, 3, 1375, 401, 4, 397, 782, 60, 2], [44, 77, 33, 492, 6, 303, 2], [633, 3, 66, 5, 209, 463, 2], [8, 1634, 6, 65, 1903, 466, 23, 676, 2]]\n"
     ]
    }
   ],
   "source": [
    "# 타겟 어휘의 크기를 2000으로 설정\n",
    "tar_vocab = 2000  # 디코더에서 사용할 어휘의 최대 크기 설정 (어휘 크기를 2000으로 제한)\n",
    "tar_tokenizer = Tokenizer(num_words=tar_vocab)  # 타겟 토큰화를 위한 Tokenizer 객체 생성, 최대 단어 수 2000으로 제한\n",
    "\n",
    "# 타겟 데이터에 대해 토크나이저 학습 (훈련 데이터의 디코더 입력 및 출력 사용)\n",
    "tar_tokenizer.fit_on_texts(decoder_input_train)  # 디코더 입력 훈련 데이터에 대해 토크나이저 학습\n",
    "tar_tokenizer.fit_on_texts(decoder_target_train)  # 디코더 타겟 훈련 데이터에 대해서도 토크나이저 학습\n",
    "\n",
    "# 텍스트 시퀀스를 정수 시퀀스로 변환 (훈련 데이터와 테스트 데이터 모두 변환)\n",
    "decoder_input_train = tar_tokenizer.texts_to_sequences(decoder_input_train)  # 디코더 입력 훈련 데이터를 정수 시퀀스로 변환\n",
    "decoder_target_train = tar_tokenizer.texts_to_sequences(decoder_target_train)  # 디코더 타겟 훈련 데이터를 정수 시퀀스로 변환\n",
    "decoder_input_test = tar_tokenizer.texts_to_sequences(decoder_input_test)  # 디코더 입력 테스트 데이터를 정수 시퀀스로 변환\n",
    "decoder_target_test = tar_tokenizer.texts_to_sequences(decoder_target_test)  # 디코더 타겟 테스트 데이터를 정수 시퀀스로 변환\n",
    "\n",
    "# 잘 변환되었는지 확인을 위해 일부 데이터 출력\n",
    "print('input')\n",
    "print('input ', decoder_input_train[:5])  # 디코더 입력 훈련 데이터의 처음 5개 샘플 출력\n",
    "print('target')\n",
    "print('decoder ', decoder_target_train[:5])  # 디코더 타겟 훈련 데이터의 처음 5개 샘플 출력\n"
   ]
  },
  {
   "cell_type": "code",
   "execution_count": 32,
   "id": "3155d0e2",
   "metadata": {},
   "outputs": [
    {
     "name": "stdout",
     "output_type": "stream",
     "text": [
      "삭제할 훈련 데이터의 개수 : 12\n",
      "삭제할 테스트 데이터의 개수 : 4\n",
      "훈련 데이터의 개수 : 77485\n",
      "훈련 레이블의 개수 : 77485\n",
      "테스트 데이터의 개수 : 19370\n",
      "테스트 레이블의 개수 : 19370\n"
     ]
    }
   ],
   "source": [
    "# 길이가 1인 문장을 찾아 삭제할 훈련 및 테스트 데이터의 인덱스를 수집\n",
    "drop_train = [index for index, sentence in enumerate(decoder_input_train) if len(sentence) == 1]  # 디코더 입력 훈련 데이터 중 길이가 1인 문장의 인덱스를 수집\n",
    "drop_test = [index for index, sentence in enumerate(decoder_input_test) if len(sentence) == 1]  # 디코더 입력 테스트 데이터 중 길이가 1인 문장의 인덱스를 수집\n",
    "\n",
    "# 삭제할 데이터의 개수를 출력\n",
    "print('삭제할 훈련 데이터의 개수 :', len(drop_train))  # 길이가 1인 훈련 데이터의 개수 출력\n",
    "print('삭제할 테스트 데이터의 개수 :', len(drop_test))  # 길이가 1인 테스트 데이터의 개수 출력\n",
    "\n",
    "# 길이가 1인 문장을 삭제하고 데이터 정리\n",
    "encoder_input_train = [sentence for index, sentence in enumerate(encoder_input_train) if index not in drop_train]  # 길이가 1인 문장이 아닌 데이터만 남겨 훈련 데이터 정리\n",
    "decoder_input_train = [sentence for index, sentence in enumerate(decoder_input_train) if index not in drop_train]  # 길이가 1인 문장이 아닌 데이터만 남겨 디코더 입력 훈련 데이터 정리\n",
    "decoder_target_train = [sentence for index, sentence in enumerate(decoder_target_train) if index not in drop_train]  # 길이가 1인 문장이 아닌 데이터만 남겨 디코더 타겟 훈련 데이터 정리\n",
    "\n",
    "encoder_input_test = [sentence for index, sentence in enumerate(encoder_input_test) if index not in drop_test]  # 길이가 1인 문장이 아닌 데이터만 남겨 테스트 데이터 정리\n",
    "decoder_input_test = [sentence for index, sentence in enumerate(decoder_input_test) if index not in drop_test]  # 길이가 1인 문장이 아닌 데이터만 남겨 디코더 입력 테스트 데이터 정리\n",
    "decoder_target_test = [sentence for index, sentence in enumerate(decoder_target_test) if index not in drop_test]  # 길이가 1인 문장이 아닌 데이터만 남겨 디코더 타겟 테스트 데이터 정리\n",
    "\n",
    "# 정리된 데이터의 개수를 출력\n",
    "print('훈련 데이터의 개수 :', len(encoder_input_train))  # 훈련 데이터 개수 출력\n",
    "print('훈련 레이블의 개수 :', len(decoder_input_train))  # 훈련 레이블(디코더 입력) 개수 출력\n",
    "print('테스트 데이터의 개수 :', len(encoder_input_test))  # 테스트 데이터 개수 출력\n",
    "print('테스트 레이블의 개수 :', len(decoder_input_test))  # 테스트 레이블(디코더 입력) 개수 출력\n"
   ]
  },
  {
   "cell_type": "code",
   "execution_count": 33,
   "id": "7f13d22b",
   "metadata": {},
   "outputs": [],
   "source": [
    "# padding: pre 또는 post를 선택. (post는 뒤쪽에 패딩, pre는 앞쪽에 패딩)\n",
    "encoder_input_train = pad_sequences(encoder_input_train, maxlen=text_max_len, padding='post')\n",
    "encoder_input_test = pad_sequences(encoder_input_test, maxlen=text_max_len, padding='post')\n",
    "decoder_input_train = pad_sequences(decoder_input_train, maxlen=headlines_max_len, padding='post')\n",
    "decoder_target_train = pad_sequences(decoder_target_train, maxlen=headlines_max_len, padding='post')\n",
    "decoder_input_test = pad_sequences(decoder_input_test, maxlen=headlines_max_len, padding='post')\n",
    "decoder_target_test = pad_sequences(decoder_target_test, maxlen=headlines_max_len, padding='post')"
   ]
  },
  {
   "cell_type": "markdown",
   "id": "a80ea224",
   "metadata": {},
   "source": [
    "## Step 3. 어텐션 메커니즘 사용하기 (추상적 요약)\n",
    "일반적인 seq2seq보다는 어텐션 메커니즘을 사용한 seq2seq를 사용하는 것이 더 나은 성능을 얻을 수 있어요. 실습 내용을 참고하여 어텐션 메커니즘을 사용한 seq2seq를 설계해 보세요."
   ]
  },
  {
   "cell_type": "code",
   "execution_count": 34,
   "id": "9485992d",
   "metadata": {},
   "outputs": [],
   "source": [
    "from tensorflow.keras.layers import Input, LSTM, Embedding, Dense, Concatenate, TimeDistributed\n",
    "from tensorflow.keras.models import Model\n",
    "from tensorflow.keras.callbacks import EarlyStopping, ModelCheckpoint\n",
    "\n",
    "\n",
    "# 인코더 설계 시작\n",
    "embedding_dim = 128\n",
    "hidden_size = 256\n",
    "\n",
    "# 인코더\n",
    "encoder_inputs = Input(shape=(text_max_len,))\n",
    "\n",
    "# 인코더의 임베딩 층\n",
    "enc_emb = Embedding(src_vocab, embedding_dim)(encoder_inputs)\n",
    "\n",
    "# 인코더의 LSTM 1\n",
    "# encoder_lstm1 = LSTM(hidden_size, return_sequences=True, return_state=True ,dropout = 0.4, recurrent_dropout = 0.4)\n",
    "encoder_lstm1 = LSTM(hidden_size, return_sequences=True, return_state=True ,dropout = 0.4)\n",
    "encoder_output1, state_h1, state_c1 = encoder_lstm1(enc_emb)\n",
    "\n",
    "# 인코더의 LSTM 2\n",
    "encoder_lstm2 = LSTM(hidden_size, return_sequences=True, return_state=True, dropout=0.4)\n",
    "encoder_output2, state_h2, state_c2 = encoder_lstm2(encoder_output1)\n",
    "\n",
    "# 인코더의 LSTM 3\n",
    "encoder_lstm3 = LSTM(hidden_size, return_sequences=True, return_state=True, dropout=0.4)\n",
    "encoder_outputs, state_h, state_c = encoder_lstm3(encoder_output2)\n"
   ]
  },
  {
   "cell_type": "code",
   "execution_count": 35,
   "id": "ca5145f2",
   "metadata": {},
   "outputs": [],
   "source": [
    "# 디코더 설계\n",
    "decoder_inputs = Input(shape=(None,))\n",
    "\n",
    "# 디코더의 임베딩 층\n",
    "dec_emb_layer = Embedding(tar_vocab, embedding_dim)\n",
    "dec_emb = dec_emb_layer(decoder_inputs)\n",
    "\n",
    "# 디코더의 LSTM\n",
    "# decoder_lstm = LSTM(hidden_size, return_sequences=True, return_state=True, dropout=0.4, recurrent_dropout=0.2)\n",
    "decoder_lstm = LSTM(hidden_size, return_sequences=True, return_state=True, dropout=0.4)\n",
    "decoder_outputs, _, _ = decoder_lstm(dec_emb, initial_state=[state_h, state_c])"
   ]
  },
  {
   "cell_type": "code",
   "execution_count": 36,
   "id": "d3e55e49",
   "metadata": {},
   "outputs": [
    {
     "name": "stdout",
     "output_type": "stream",
     "text": [
      "Model: \"model\"\n",
      "__________________________________________________________________________________________________\n",
      "Layer (type)                    Output Shape         Param #     Connected to                     \n",
      "==================================================================================================\n",
      "input_1 (InputLayer)            [(None, 45)]         0                                            \n",
      "__________________________________________________________________________________________________\n",
      "embedding (Embedding)           (None, 45, 128)      1024000     input_1[0][0]                    \n",
      "__________________________________________________________________________________________________\n",
      "lstm (LSTM)                     [(None, 45, 256), (N 394240      embedding[0][0]                  \n",
      "__________________________________________________________________________________________________\n",
      "input_2 (InputLayer)            [(None, None)]       0                                            \n",
      "__________________________________________________________________________________________________\n",
      "lstm_1 (LSTM)                   [(None, 45, 256), (N 525312      lstm[0][0]                       \n",
      "__________________________________________________________________________________________________\n",
      "embedding_1 (Embedding)         (None, None, 128)    256000      input_2[0][0]                    \n",
      "__________________________________________________________________________________________________\n",
      "lstm_2 (LSTM)                   [(None, 45, 256), (N 525312      lstm_1[0][0]                     \n",
      "__________________________________________________________________________________________________\n",
      "lstm_3 (LSTM)                   [(None, None, 256),  394240      embedding_1[0][0]                \n",
      "                                                                 lstm_2[0][1]                     \n",
      "                                                                 lstm_2[0][2]                     \n",
      "__________________________________________________________________________________________________\n",
      "dense (Dense)                   (None, None, 2000)   514000      lstm_3[0][0]                     \n",
      "==================================================================================================\n",
      "Total params: 3,633,104\n",
      "Trainable params: 3,633,104\n",
      "Non-trainable params: 0\n",
      "__________________________________________________________________________________________________\n"
     ]
    }
   ],
   "source": [
    "# 디코더의 출력층 정의\n",
    "decoder_softmax_layer = Dense(tar_vocab, activation='softmax')  # 출력층으로 Dense 레이어를 정의, 타겟 어휘(tar_vocab) 크기의 클래스에 대해 소프트맥스 활성화 함수 사용\n",
    "decoder_softmax_outputs = decoder_softmax_layer(decoder_outputs)  # 디코더의 출력에 소프트맥스 레이어 적용하여 각 단어에 대한 확률 분포 계산\n",
    "\n",
    "# 전체 Seq2Seq 모델 정의\n",
    "model = Model([encoder_inputs, decoder_inputs], decoder_softmax_outputs)  # 인코더 입력과 디코더 입력을 받아 디코더 출력층을 예측하는 모델 정의\n",
    "model.summary()  # 모델 구조 요약 출력\n"
   ]
  },
  {
   "cell_type": "code",
   "execution_count": 37,
   "id": "d1820e0c",
   "metadata": {},
   "outputs": [
    {
     "name": "stdout",
     "output_type": "stream",
     "text": [
      "Model: \"model_1\"\n",
      "__________________________________________________________________________________________________\n",
      "Layer (type)                    Output Shape         Param #     Connected to                     \n",
      "==================================================================================================\n",
      "input_1 (InputLayer)            [(None, 45)]         0                                            \n",
      "__________________________________________________________________________________________________\n",
      "embedding (Embedding)           (None, 45, 128)      1024000     input_1[0][0]                    \n",
      "__________________________________________________________________________________________________\n",
      "lstm (LSTM)                     [(None, 45, 256), (N 394240      embedding[0][0]                  \n",
      "__________________________________________________________________________________________________\n",
      "input_2 (InputLayer)            [(None, None)]       0                                            \n",
      "__________________________________________________________________________________________________\n",
      "lstm_1 (LSTM)                   [(None, 45, 256), (N 525312      lstm[0][0]                       \n",
      "__________________________________________________________________________________________________\n",
      "embedding_1 (Embedding)         (None, None, 128)    256000      input_2[0][0]                    \n",
      "__________________________________________________________________________________________________\n",
      "lstm_2 (LSTM)                   [(None, 45, 256), (N 525312      lstm_1[0][0]                     \n",
      "__________________________________________________________________________________________________\n",
      "lstm_3 (LSTM)                   [(None, None, 256),  394240      embedding_1[0][0]                \n",
      "                                                                 lstm_2[0][1]                     \n",
      "                                                                 lstm_2[0][2]                     \n",
      "__________________________________________________________________________________________________\n",
      "attention_layer (AdditiveAttent (None, None, 256)    256         lstm_3[0][0]                     \n",
      "                                                                 lstm_2[0][0]                     \n",
      "__________________________________________________________________________________________________\n",
      "concat_layer (Concatenate)      (None, None, 512)    0           lstm_3[0][0]                     \n",
      "                                                                 attention_layer[0][0]            \n",
      "__________________________________________________________________________________________________\n",
      "dense_1 (Dense)                 (None, None, 2000)   1026000     concat_layer[0][0]               \n",
      "==================================================================================================\n",
      "Total params: 4,145,360\n",
      "Trainable params: 4,145,360\n",
      "Non-trainable params: 0\n",
      "__________________________________________________________________________________________________\n"
     ]
    }
   ],
   "source": [
    "from tensorflow.keras.layers import AdditiveAttention\n",
    "\n",
    "# 어텐션 층(어텐션 함수)\n",
    "attn_layer = AdditiveAttention(name='attention_layer')\n",
    "\n",
    "# 인코더와 디코더의 모든 time step의 hidden state를 어텐션 층에 전달하고 결과를 리턴\n",
    "attn_out = attn_layer([decoder_outputs, encoder_outputs])\n",
    "\n",
    "\n",
    "# 어텐션의 결과와 디코더의 hidden state들을 연결\n",
    "decoder_concat_input = Concatenate(axis=-1, name='concat_layer')([decoder_outputs, attn_out])\n",
    "\n",
    "# 디코더의 출력층\n",
    "decoder_softmax_layer = Dense(tar_vocab, activation='softmax')\n",
    "decoder_softmax_outputs = decoder_softmax_layer(decoder_concat_input)\n",
    "\n",
    "# 모델 정의\n",
    "model = Model([encoder_inputs, decoder_inputs], decoder_softmax_outputs)\n",
    "model.summary()"
   ]
  },
  {
   "cell_type": "code",
   "execution_count": 38,
   "id": "534d8ad7",
   "metadata": {},
   "outputs": [
    {
     "name": "stdout",
     "output_type": "stream",
     "text": [
      "Model: \"model_2\"\n",
      "__________________________________________________________________________________________________\n",
      "Layer (type)                    Output Shape         Param #     Connected to                     \n",
      "==================================================================================================\n",
      "input_1 (InputLayer)            [(None, 45)]         0                                            \n",
      "__________________________________________________________________________________________________\n",
      "embedding (Embedding)           (None, 45, 128)      1024000     input_1[0][0]                    \n",
      "__________________________________________________________________________________________________\n",
      "lstm (LSTM)                     [(None, 45, 256), (N 394240      embedding[0][0]                  \n",
      "__________________________________________________________________________________________________\n",
      "input_2 (InputLayer)            [(None, None)]       0                                            \n",
      "__________________________________________________________________________________________________\n",
      "lstm_1 (LSTM)                   [(None, 45, 256), (N 525312      lstm[0][0]                       \n",
      "__________________________________________________________________________________________________\n",
      "embedding_1 (Embedding)         (None, None, 128)    256000      input_2[0][0]                    \n",
      "__________________________________________________________________________________________________\n",
      "lstm_2 (LSTM)                   [(None, 45, 256), (N 525312      lstm_1[0][0]                     \n",
      "__________________________________________________________________________________________________\n",
      "lstm_3 (LSTM)                   [(None, None, 256),  394240      embedding_1[0][0]                \n",
      "                                                                 lstm_2[0][1]                     \n",
      "                                                                 lstm_2[0][2]                     \n",
      "__________________________________________________________________________________________________\n",
      "attention_layer (AdditiveAttent (None, None, 256)    256         lstm_3[0][0]                     \n",
      "                                                                 lstm_2[0][0]                     \n",
      "__________________________________________________________________________________________________\n",
      "concat_layer (Concatenate)      (None, None, 512)    0           lstm_3[0][0]                     \n",
      "                                                                 attention_layer[0][0]            \n",
      "__________________________________________________________________________________________________\n",
      "dense_2 (Dense)                 (None, None, 2000)   1026000     concat_layer[0][0]               \n",
      "==================================================================================================\n",
      "Total params: 4,145,360\n",
      "Trainable params: 4,145,360\n",
      "Non-trainable params: 0\n",
      "__________________________________________________________________________________________________\n"
     ]
    }
   ],
   "source": [
    "from tensorflow.keras.layers import AdditiveAttention\n",
    "\n",
    "# 어텐션 층(어텐션 함수)\n",
    "attn_layer = AdditiveAttention(name='attention_layer')\n",
    "\n",
    "# 인코더와 디코더의 모든 time step의 hidden state를 어텐션 층에 전달하고 결과를 리턴\n",
    "attn_out = attn_layer([decoder_outputs, encoder_outputs])\n",
    "\n",
    "\n",
    "# 어텐션의 결과와 디코더의 hidden state들을 연결\n",
    "decoder_concat_input = Concatenate(axis=-1, name='concat_layer')([decoder_outputs, attn_out])\n",
    "\n",
    "# 디코더의 출력층\n",
    "decoder_softmax_layer = Dense(tar_vocab, activation='softmax')\n",
    "decoder_softmax_outputs = decoder_softmax_layer(decoder_concat_input)\n",
    "\n",
    "# 모델 정의\n",
    "model = Model([encoder_inputs, decoder_inputs], decoder_softmax_outputs)\n",
    "model.summary()"
   ]
  },
  {
   "cell_type": "code",
   "execution_count": 39,
   "id": "fb8cadf9",
   "metadata": {
    "scrolled": true
   },
   "outputs": [
    {
     "name": "stdout",
     "output_type": "stream",
     "text": [
      "Epoch 1/50\n",
      "303/303 [==============================] - 53s 70ms/step - loss: 3.8732 - val_loss: 3.5451\n",
      "Epoch 2/50\n",
      "303/303 [==============================] - 20s 67ms/step - loss: 3.3959 - val_loss: 3.2383\n",
      "Epoch 3/50\n",
      "303/303 [==============================] - 20s 67ms/step - loss: 3.1373 - val_loss: 3.0205\n",
      "Epoch 4/50\n",
      "303/303 [==============================] - 21s 68ms/step - loss: 2.9344 - val_loss: 2.8741\n",
      "Epoch 5/50\n",
      "303/303 [==============================] - 21s 69ms/step - loss: 2.7871 - val_loss: 2.7799\n",
      "Epoch 6/50\n",
      "303/303 [==============================] - 21s 70ms/step - loss: 2.6761 - val_loss: 2.6958\n",
      "Epoch 7/50\n",
      "303/303 [==============================] - 21s 71ms/step - loss: 2.5842 - val_loss: 2.6401\n",
      "Epoch 8/50\n",
      "303/303 [==============================] - 22s 71ms/step - loss: 2.5058 - val_loss: 2.5918\n",
      "Epoch 9/50\n",
      "303/303 [==============================] - 21s 71ms/step - loss: 2.4364 - val_loss: 2.5528\n",
      "Epoch 10/50\n",
      "303/303 [==============================] - 21s 71ms/step - loss: 2.3754 - val_loss: 2.5189\n",
      "Epoch 11/50\n",
      "303/303 [==============================] - 21s 71ms/step - loss: 2.3201 - val_loss: 2.4964\n",
      "Epoch 12/50\n",
      "303/303 [==============================] - 21s 71ms/step - loss: 2.2708 - val_loss: 2.4733\n",
      "Epoch 13/50\n",
      "303/303 [==============================] - 21s 71ms/step - loss: 2.2245 - val_loss: 2.4557\n",
      "Epoch 14/50\n",
      "303/303 [==============================] - 21s 71ms/step - loss: 2.1835 - val_loss: 2.4443\n",
      "Epoch 15/50\n",
      "303/303 [==============================] - 21s 71ms/step - loss: 2.1444 - val_loss: 2.4313\n",
      "Epoch 16/50\n",
      "303/303 [==============================] - 22s 71ms/step - loss: 2.1068 - val_loss: 2.4193\n",
      "Epoch 17/50\n",
      "303/303 [==============================] - 21s 71ms/step - loss: 2.0730 - val_loss: 2.4130\n",
      "Epoch 18/50\n",
      "303/303 [==============================] - 21s 71ms/step - loss: 2.0420 - val_loss: 2.4061\n",
      "Epoch 19/50\n",
      "303/303 [==============================] - 21s 71ms/step - loss: 2.0117 - val_loss: 2.4012\n",
      "Epoch 20/50\n",
      "303/303 [==============================] - 22s 71ms/step - loss: 1.9835 - val_loss: 2.4000\n",
      "Epoch 21/50\n",
      "303/303 [==============================] - 22s 71ms/step - loss: 1.9569 - val_loss: 2.3942\n",
      "Epoch 22/50\n",
      "303/303 [==============================] - 21s 71ms/step - loss: 1.9311 - val_loss: 2.3966\n",
      "Epoch 23/50\n",
      "303/303 [==============================] - 21s 71ms/step - loss: 1.9068 - val_loss: 2.3931\n",
      "Epoch 24/50\n",
      "303/303 [==============================] - 21s 71ms/step - loss: 1.8842 - val_loss: 2.3940\n",
      "Epoch 25/50\n",
      "303/303 [==============================] - 22s 71ms/step - loss: 1.8628 - val_loss: 2.3961\n",
      "Epoch 00025: early stopping\n"
     ]
    }
   ],
   "source": [
    "# 모델 컴파일\n",
    "model.compile(optimizer='rmsprop', loss='sparse_categorical_crossentropy')  # 옵티마이저로 RMSprop 사용, 손실 함수로 sparse_categorical_crossentropy 사용\n",
    "\n",
    "# 얼리 스토핑 설정\n",
    "es = EarlyStopping(monitor='val_loss', patience=2, verbose=1)  # 검증 손실(val_loss)을 모니터링, 개선이 2번 이상 없을 경우 학습 조기 종료\n",
    "\n",
    "# 모델 학습\n",
    "history = model.fit(\n",
    "    x=[encoder_input_train, decoder_input_train],  # 학습 데이터: 인코더 입력과 디코더 입력\n",
    "    y=decoder_target_train,  # 학습 대상: 디코더 타겟 출력\n",
    "    validation_data=([encoder_input_test, decoder_input_test], decoder_target_test),  # 검증 데이터\n",
    "    batch_size=256,  # 배치 크기 설정\n",
    "    callbacks=[es],  # 콜백으로 얼리 스토핑 적용\n",
    "    epochs=50  # 최대 50 에포크 동안 학습\n",
    ")\n",
    "\n",
    "# 학습 과정에서 25번째 에포크에서 Early Stopping 발생\n"
   ]
  },
  {
   "cell_type": "code",
   "execution_count": 40,
   "id": "ff8cbebf",
   "metadata": {},
   "outputs": [
    {
     "data": {
      "image/png": "[encoded data removed]",
      "text/plain": [
       "<Figure size 432x288 with 1 Axes>"
      ]
     },
     "metadata": {
      "needs_background": "light"
     },
     "output_type": "display_data"
    }
   ],
   "source": [
    "plt.plot(history.history['loss'], label='train')\n",
    "plt.plot(history.history['val_loss'], label='test')\n",
    "plt.legend()\n",
    "plt.show()"
   ]
  },
  {
   "cell_type": "markdown",
   "id": "8ccb28f5",
   "metadata": {},
   "source": [
    "### 인퍼런스 모델 구현"
   ]
  },
  {
   "cell_type": "code",
   "execution_count": 41,
   "id": "9b7a6e21",
   "metadata": {},
   "outputs": [],
   "source": [
    "src_index_to_word = src_tokenizer.index_word # 원문 단어 집합에서 정수 -> 단어를 얻음\n",
    "tar_word_to_index = tar_tokenizer.word_index # 요약 단어 집합에서 단어 -> 정수를 얻음\n",
    "tar_index_to_word = tar_tokenizer.index_word # 요약 단어 집합에서 정수 -> 단어를 얻음"
   ]
  },
  {
   "cell_type": "code",
   "execution_count": 42,
   "id": "597baec7",
   "metadata": {},
   "outputs": [],
   "source": [
    "# 인코더 설계\n",
    "encoder_model = Model(inputs=encoder_inputs, outputs=[encoder_outputs, state_h, state_c])\n",
    "\n",
    "# 이전 시점의 상태들을 저장하는 텐서\n",
    "decoder_state_input_h = Input(shape=(hidden_size,))\n",
    "decoder_state_input_c = Input(shape=(hidden_size,))\n",
    "\n",
    "dec_emb2 = dec_emb_layer(decoder_inputs)\n",
    "\n",
    "# 문장의 다음 단어를 예측하기 위해서 초기 상태(initial_state)를 이전 시점의 상태로 사용. 이는 뒤의 함수 decode_sequence()에 구현\n",
    "# 훈련 과정에서와 달리 LSTM의 리턴하는 은닉 상태와 셀 상태인 state_h와 state_c를 버리지 않음.\n",
    "decoder_outputs2, state_h2, state_c2 = decoder_lstm(dec_emb2, initial_state=[decoder_state_input_h, decoder_state_input_c])\n"
   ]
  },
  {
   "cell_type": "code",
   "execution_count": 43,
   "id": "be18bcef",
   "metadata": {},
   "outputs": [],
   "source": [
    "# 어텐션 함수\n",
    "decoder_hidden_state_input = Input(shape=(text_max_len, hidden_size))  # 디코더의 hidden state 입력을 정의 (입력 길이와 hidden size를 지정)\n",
    "attn_out_inf = attn_layer([decoder_outputs2, decoder_hidden_state_input])  # 어텐션 레이어를 통해 디코더의 출력과 인코더 hidden state 간의 상호작용 결과를 얻음\n",
    "decoder_inf_concat = Concatenate(axis=-1, name='concat')([decoder_outputs2, attn_out_inf])  # 디코더의 출력과 어텐션 결과를 병합 (concat)\n",
    "\n",
    "# 디코더의 출력층\n",
    "decoder_outputs2 = decoder_softmax_layer(decoder_inf_concat)  # 병합된 결과를 통해 소프트맥스 레이어로 출력 (예측 토큰 확률 계산)\n",
    "\n",
    "# 최종 디코더 모델 정의\n",
    "decoder_model = Model(\n",
    "    [decoder_inputs] + [decoder_hidden_state_input, decoder_state_input_h, decoder_state_input_c],  # 입력: 디코더 입력, hidden state 입력 (h, c)\n",
    "    [decoder_outputs2] + [state_h2, state_c2]  # 출력: 디코더의 출력 (다음 토큰 예측)과 상태 (h, c)\n",
    ")\n"
   ]
  },
  {
   "cell_type": "code",
   "execution_count": 44,
   "id": "bf591144",
   "metadata": {
    "scrolled": true
   },
   "outputs": [],
   "source": [
    "def decode_sequence(input_seq):\n",
    "    # 입력 시퀀스로부터 인코더의 상태를 얻음\n",
    "    e_out, e_h, e_c = encoder_model.predict(input_seq)\n",
    "\n",
    "    # <SOS> (start of sequence)에 해당하는 토큰 생성\n",
    "    target_seq = np.zeros((1, 1))  # 초기 타겟 시퀀스를 0으로 초기화 (크기는 1x1)\n",
    "    target_seq[0, 0] = tar_word_to_index['sostoken']  # 첫 번째 단어로 <SOS> 토큰 사용\n",
    "\n",
    "    stop_condition = False  # 디코딩 종료 조건 변수\n",
    "    decoded_sentence = ''  # 디코딩된 문장 초기화\n",
    "\n",
    "    # 디코딩 루프 시작\n",
    "    while not stop_condition:\n",
    "        # 디코더 모델에 현재 타겟 시퀀스와 인코더의 출력을 입력하여 예측 수행\n",
    "        output_tokens, h, c = decoder_model.predict([target_seq] + [e_out, e_h, e_c])\n",
    "\n",
    "        # 예측된 토큰 중 확률이 가장 높은 인덱스를 선택\n",
    "        sampled_token_index = np.argmax(output_tokens[0, -1, :])\n",
    "        # 인덱스를 단어로 변환\n",
    "        sampled_token = tar_index_to_word[sampled_token_index]\n",
    "\n",
    "        # <EOS>가 아닐 경우 디코딩된 문장에 추가\n",
    "        if sampled_token != 'eostoken':\n",
    "            decoded_sentence += ' ' + sampled_token\n",
    "\n",
    "        # <EOS> 토큰에 도달하거나 최대 길이를 초과하면 루프 종료\n",
    "        if sampled_token == 'eostoken' or len(decoded_sentence.split()) >= (headlines_max_len - 1):\n",
    "            stop_condition = True\n",
    "\n",
    "        # 현재 시점의 출력 토큰을 다음 입력으로 사용하여 타겟 시퀀스 업데이트\n",
    "        target_seq = np.zeros((1, 1))\n",
    "        target_seq[0, 0] = sampled_token_index\n",
    "\n",
    "        # 디코더의 상태를 다음 시점에서 사용하기 위해 업데이트\n",
    "        e_h, e_c = h, c\n",
    "\n",
    "    # 디코딩된 문장 반환\n",
    "    return decoded_sentence\n"
   ]
  },
  {
   "cell_type": "markdown",
   "id": "53d16fe7",
   "metadata": {},
   "source": [
    "## Step 4. 실제 결과와 요약문 비교하기 (추상적 요약)\n",
    "원래의 요약문(headlines 열)과 학습을 통해 얻은 추상적 요약의 결과를 비교해 보세요."
   ]
  },
  {
   "cell_type": "code",
   "execution_count": 45,
   "id": "87640edc",
   "metadata": {},
   "outputs": [],
   "source": [
    "# 원문의 정수 시퀀스를 텍스트 시퀀스로 변환하는 함수\n",
    "def seq2text(input_seq):\n",
    "    temp = ''  # 변환된 텍스트 시퀀스를 저장할 변수 초기화\n",
    "    for i in input_seq:  # 입력된 정수 시퀀스의 각 요소를 순회\n",
    "        if i != 0:  # 패딩 값(0)은 무시\n",
    "            temp = temp + src_index_to_word[i] + ' '  # 정수 인덱스를 단어로 변환하여 결과 문자열에 추가\n",
    "    return temp  # 최종적으로 생성된 텍스트 시퀀스를 반환\n",
    "\n",
    "# 요약문의 정수 시퀀스를 텍스트 시퀀스로 변환하는 함수\n",
    "def seq2summary(input_seq):\n",
    "    temp = ''  # 변환된 텍스트 시퀀스를 저장할 변수 초기화\n",
    "    for i in input_seq:  # 입력된 정수 시퀀스의 각 요소를 순회\n",
    "        # 패딩 값(0), 시작 토큰(sostoken), 종료 토큰(eostoken)은 변환하지 않음\n",
    "        if i != 0 and i != tar_word_to_index['sostoken'] and i != tar_word_to_index['eostoken']:\n",
    "            temp = temp + tar_index_to_word[i] + ' '  # 정수 인덱스를 단어로 변환하여 결과 문자열에 추가\n",
    "    return temp.strip()  # 양쪽 공백을 제거한 최종 텍스트 시퀀스를 반환\n"
   ]
  },
  {
   "cell_type": "code",
   "execution_count": 46,
   "id": "73428ed9",
   "metadata": {},
   "outputs": [
    {
     "name": "stdout",
     "output_type": "stream",
     "text": [
      "원문 : dairy cooperative amul released new poster actress kangana ranaut recent controversial statements poster captioned kangana never controversy reads amul heroes amul official twitter handle sharing poster wrote bollywood actress causing waves screen \n",
      "실제 요약 : releases poster on kangana\n",
      "예측 요약 :  new poster of kangana released\n",
      "\n",
      "\n",
      "원문 : brazilian aviation company ceo de souza said network electric aircraft developing uber likely launch souza said engineers one tonne vehicles transport four passengers altitude feet aircraft batteries five minutes flights souza added \n",
      "실제 요약 : uber electric aircraft likely to launch in\n",
      "예측 요약 :  ceo to launch in india\n",
      "\n",
      "\n",
      "원문 : actress priyanka chopra talking fianc singer nick jonas said fine comfortable mumbai place become home probably knows places someone likes go much know go happening revealed \n",
      "실제 요약 : nick is fine with mumbai now it is his other home priyanka\n",
      "예측 요약 :  priyanka nick to make his own house\n",
      "\n",
      "\n",
      "원문 : chennai based hr focused startup owes lakh unpaid dues former employees alleged former employees even sent legal notices startup founder raised hr fund agreed startup run funds plan pay dues \n",
      "실제 요약 : startup ex employees lakh in\n",
      "예측 요약 :  pune based startup charged for lakh\n",
      "\n",
      "\n",
      "원문 : delhi metro rail corporation saturday claimed hike fares necessary meet costs provide world class service besides owing japan international cooperation agency around crore stated making crore net loss operating replacement assets \n",
      "실제 요약 : delhi metro body calls hike in\n",
      "예측 요약 :  delhi metro to get cr from\n",
      "\n",
      "\n",
      "원문 : us president donald trump defended daughter ivanka using private email account conduct official business claiming hiding trump added ivanka emails presidential records emails contain classified information deleted like former secretary state hillary clinton said \n",
      "실제 요약 : there was no trump defends ivanka over use\n",
      "예측 요약 :  ivanka trump ivanka us\n",
      "\n",
      "\n",
      "원문 : china based laptop maker identified manager pro software allows hackers gain access user devices also users data according company released bug software uses recognition log \n",
      "실제 요약 : allows hackers to\n",
      "예측 요약 :  china accuses of of\n",
      "\n",
      "\n",
      "원문 : rajkummar rao starrer newton india official entry oscars failed make best foreign language film category new th academy awards films originally considered list reduced nine films newton revolves around government election duty naxal controlled town \n",
      "실제 요약 : india official entry out of race for\n",
      "예측 요약 :  rajkummar rao starrer entry into india entry\n",
      "\n",
      "\n",
      "원문 : uttar pradesh police apologised picture showing mob lynching victim police presence went viral stating policemen picture transferred clarified picture taken police arrived shift victim hospital due non availability ambulance man later succumbed injuries \n",
      "실제 요약 : pic shows mob man in front of up cops police\n",
      "예측 요약 :  police beat cop who cop him to police station\n",
      "\n",
      "\n",
      "원문 : students placed academic year year data collected ministry human resource development revealed students participated drives got jobs global cited likely reason \n",
      "실제 요약 : of did not find job in in\n",
      "예측 요약 :  students in\n",
      "\n",
      "\n",
      "원문 : fire broke dubai storey residential building tiger tower sunday however fire quickly injuries reported incident cigarette high temperatures could officials said comes struck dubai storey tower one world tallest residential towers friday \n",
      "실제 요약 : dubai building catches fire\n",
      "예측 요약 :  fire breaks out at mumbai airport\n",
      "\n",
      "\n",
      "원문 : british public voted name polar research vessel sweden voted name train received votes beating options like previously named trains five year old swedish princess glenn long running joke everyone city named glenn \n",
      "실제 요약 : train named after public vote\n",
      "예측 요약 :  uk parliament to\n",
      "\n",
      "\n",
      "원문 : pakistan also known chicago seen wearing indian jersey indian team asia cup final bangladesh also seen alongside indian gautam financially supporting helping attend tournament dubai \n",
      "실제 요약 : pak fan wears india in final vs desh\n",
      "예측 요약 :  pakistan to miss india\n",
      "\n",
      "\n",
      "원문 : many people killed injured truck overturned odisha tuesday injured shifted hospitals following incident state cm naveen patnaik announced compensation lakh family killed incident free medical treatment injured \n",
      "실제 요약 : dead injured as truck in odisha\n",
      "예측 요약 :  killed as bus falls into in odisha\n",
      "\n",
      "\n",
      "원문 : wishing actor husband shahid kapoor third marriage anniversary wife mira rajput shared picture instagram story captioned bad pictures make best memories love happy baby wrote shahid mira got married july parents one year old daughter \n",
      "실제 요약 : bad pics make best to shahid on anniversary\n",
      "예측 요약 :  shahid kapoor shares pic with wife on\n",
      "\n",
      "\n",
      "원문 : addressing public meeting uttar pradesh cm yogi adityanath friday said people decided want good governance development want see government state people know bicycle cannot move ahead elephant cm yogi added apparent dig samajwadi party bsp alliance ahead bypolls \n",
      "실제 요약 : people do not want to see govt in up cm yogi\n",
      "예측 요약 :  yogi adityanath to make kashmir\n",
      "\n",
      "\n",
      "원문 : intel shared video showing artificial intelligence helping protect great wall china ai uses data driven model detect damaged area remote dangerous section wall data allows time labour cost materials without performing site \n",
      "실제 요약 : video intel ai to protect the great wall of china\n",
      "예측 요약 :  video shows ai to build ai\n",
      "\n",
      "\n",
      "원문 : google today acquired part electronics company corporation engineering design teams billion deal includes employees worked pixel smartphone also comes non exclusive agreement intellectual property comes ahead release google second generation pixel devices expected unveiled next month \n",
      "실제 요약 : google buys from in billion deal\n",
      "예측 요약 :  google parent to invest bn in india\n",
      "\n",
      "\n",
      "원문 : many entrepreneurs reportedly applied three day global entrepreneurship summit hyderabad attended us president daughter ivanka trump speakers around countries address meet witness participants around countries summit inaugurated pm narendra modi november \n",
      "실제 요약 : for of reports\n",
      "예측 요약 :  to get day for first time in\n",
      "\n",
      "\n",
      "원문 : government set committee headed former chief india bring transparency jobs data panel look quarterly employment survey submit report government said survey effectively employment size total workforce \n",
      "실제 요약 : govt panel to look into jobs data\n",
      "예측 요약 :  india to be in\n",
      "\n",
      "\n",
      "원문 : civic authorities failed fix roads despite several orders bombay high court wednesday formed two member committee monitor maintenance roads potholes across maharashtra committee comprising justice justice ward reports direct civic officials carry \n",
      "실제 요약 : bombay hc panel to road in maharashtra\n",
      "예측 요약 :  illegal in gurugram\n",
      "\n",
      "\n",
      "원문 : least nine people including five women arrested cow slaughter uttar pradesh police said friday acting tip police conducted raid two houses seized around three beef case registered uttar pradesh prevention cow slaughter act \n",
      "실제 요약 : arrested for cow in uttar pradesh\n",
      "예측 요약 :  men in up for cow\n",
      "\n",
      "\n",
      "원문 : uber early investor benchmark capital sell stock ride hailing startup million softbank buyers according reports uber co founder travis kalanick reportedly also planning sell uber stake billion earlier reports suggested softbank led investors bought uber shares billion valuation \n",
      "실제 요약 : to sell of uber stock for million report\n",
      "예측 요약 :  uber to sell ola in uber reports\n",
      "\n",
      "\n",
      "원문 : two bike borne men saturday snatched phone gambhir diplomat called pakistan un delhi gambhir currently vacation capital walk mother men stopped pretext asking directions reports said phone iphone plus contained crucial official documents \n",
      "실제 요약 : phone of envoy who called pak stolen in delhi\n",
      "예측 요약 :  whatsapp files complaint against for whatsapp\n",
      "\n",
      "\n",
      "원문 : us president donald trump ordered defence department create space force russia warned us weapons mass destruction space space way disaster russian officials said adding move followed tough response russia states well \n",
      "실제 요약 : russia warns us against space force\n",
      "예측 요약 :  trump russia to russia\n",
      "\n",
      "\n",
      "원문 : college professor gave covered university washington united states tim lawrence told students created beard holding onto queen said although times \n",
      "실제 요약 : us gives on while in\n",
      "예측 요약 :  us student\n",
      "\n",
      "\n",
      "원문 : total players signed part ipl player auction take place bengaluru january list includes players players including indians three players icc associate nations players australia overseas players registered auction \n",
      "실제 요약 : over players sign up for ipl auction\n"
     ]
    },
    {
     "name": "stdout",
     "output_type": "stream",
     "text": [
      "예측 요약 :  ipl auction to auction for ipl auction\n",
      "\n",
      "\n",
      "원문 : video russian woman walking several explosions test suit surfaced online standing inside fire range amazing feeling beautiful really said designer suit claimed could deal bullets blast \n",
      "실제 요약 : video russian woman through\n",
      "예측 요약 :  video russian man hits in\n",
      "\n",
      "\n",
      "원문 : responding upcoming film veere di wedding called actress sonam kapoor said call bad thing call hero film film right added sonam said veere di wedding coming age women large \n",
      "실제 요약 : no as sonam on wedding\n",
      "예측 요약 :  would love to get married sonam kapoor\n",
      "\n",
      "\n",
      "원문 : island san francisco bay united states offering lakh salary split two people look historic also serves job requirements include serving food guests island dates back automated \n",
      "실제 요약 : us offers lakh to two people to look after\n",
      "예측 요약 :  new york to pay lakh for lakh\n",
      "\n",
      "\n",
      "원문 : actor kkr owner shah rukh khan tweet cricketer gautam gambhir announced retirement tuesday wrote smile bit thank love leadership captain special man may allah always keep happy added notably gambhir led kkr two ipl title victories \n",
      "실제 요약 : you should more shah rukh to gambhir on\n",
      "예측 요약 :  shah rukh khan to be in his house\n",
      "\n",
      "\n",
      "원문 : least people killed several others injured van crowd barcelona city centre thursday according reports two armed men reportedly entered restaurant crash emergency services requested closure local metro train stations urged people stay away area \n",
      "실제 요약 : into in spain men enter restaurant\n",
      "예측 요약 :  killed injured in at centre\n",
      "\n",
      "\n",
      "원문 : kapil sharma ex girlfriend said certain girlfriend must used phone post abusive tweets official account one year kapil brought feel sorry added said kapil knew intelligent \n",
      "실제 요약 : kapil girlfriend tweets ex girlfriend\n",
      "예측 요약 :  kapil responds to girlfriend on girlfriend\n",
      "\n",
      "\n",
      "원문 : fir filed girl alleged raped unnao mla kuldeep singh family members allegedly documents proof minor order came court based petition singh whose wife son accused fir related rape \n",
      "실제 요약 : fir filed against rape over alleged\n",
      "예측 요약 :  fir against for rape victim\n",
      "\n",
      "\n",
      "원문 : civil aviation secretary said government still want see indigo air india comes indigo announced decision bid carrier primary interest acquiring air india international operations available disinvestment plan added air india operations would split bidding process \n",
      "실제 요약 : still to see if indigo for air india govt\n",
      "예측 요약 :  will not make air india indigo chief\n",
      "\n",
      "\n",
      "원문 : occasion th republic day indian railways renamed queen world oldest working engine express engine constructed uk inducted east indian railway queen engine retired active service \n",
      "실제 요약 : oldest working engine express\n",
      "예측 요약 :  india st indian to train\n",
      "\n",
      "\n",
      "원문 : farmer madhya pradesh allegedly committed suicide consuming poison failing repay loan took credit society man also put year old son another loan lakh meanwhile congress demanded lakh compensation farmer family release son \n",
      "실제 요약 : farmer son kills self on to loan\n",
      "예측 요약 :  farmer suicide after loan\n",
      "\n",
      "\n",
      "원문 : actress turned author twinkle khanna said next venture focus rights women said discussion organised unicef bill gates foundation discuss around wednesday twinkle earlier produced film pad man deals subject \n",
      "실제 요약 : my next will be on rights twinkle\n",
      "예측 요약 :  women should be women on women\n",
      "\n",
      "\n",
      "원문 : members family killed way funeral suv hit tractor allegedly carrying illegally sand madhya pradesh died spot passed away receiving treatment victims district going nearby village funeral \n",
      "실제 요약 : of same family on way to funeral die as hits car\n",
      "예측 요약 :  family of soldier found dead in west bengal\n",
      "\n",
      "\n",
      "원문 : reliance jio able generate revenue crore current financial year crore prime users pay services july march ratings agency moody said jio paid customers credit positive reliance industries noted jio aggressive stance ensure competition sector added \n",
      "실제 요약 : reliance jio could earn crore this\n",
      "예측 요약 :  reliance jio crore loss in months\n",
      "\n",
      "\n",
      "원문 : indian batsman rohit sharma took instagram troll teammate thakur jersey number rohit posted picture thakur busy talking someone dining table wrote jersey number thakur made debut fourth odi sri lanka slammed sachin tendulkar jersey number \n",
      "실제 요약 : rohit sharma trolls over his number\n",
      "예측 요약 :  rohit sharma posts photo of instagram\n",
      "\n",
      "\n",
      "원문 : shivraj singh chouhan wednesday resignation chief minister madhya pradesh said ab mein added responsibility defeat totally mine congratulated kamal nath ji made statement bsp secured two seats announced support congress form state government \n",
      "실제 요약 : singh resigns as mp cm\n",
      "예측 요약 :  congress mp resigns after defeat\n",
      "\n",
      "\n",
      "원문 : mcdonald franchise owner canada apologised pregnant woman served cleaning solution instead milk liquid smell chemical store owner said coffee machine milk supply line connected cleaning solution \n",
      "실제 요약 : mcdonald pregnant woman in\n",
      "예측 요약 :  mcdonald apologises for mcdonald\n",
      "\n",
      "\n",
      "원문 : india football team defeated italy friendly match friday country first ever international win across age groups italy whose senior team four time world champions match organised part indian exposure tour europe ahead world cup india later year \n",
      "실제 요약 : india beat italy for the first time in football history\n",
      "예측 요약 :  india football team match in last day\n",
      "\n",
      "\n",
      "원문 : cctv footage captured moment three wheeler crashed mobile store chinese city three wheeler belonged owner nearby store apparently left running following pet dog accidentally stepped one injured \n",
      "실제 요약 : three crashes into store with dog behind the\n",
      "예측 요약 :  car crashes into store in china\n",
      "\n",
      "\n",
      "원문 : us released first video former al qaeda leader mastermind osama bin laden son bin laden adult one hour long video shows beard wedding lead al qaeda threatened revenge us father \n",
      "실제 요약 : releases st video of son as an\n",
      "예측 요약 :  video of corruption accused of son\n",
      "\n",
      "\n",
      "원문 : delhi cm arvind kejriwal termed rebel jd leader sharad yadav rajya sabha illegal unconstitutional political strongly demand revoked kejriwal added comes vice president venkaiah naidu ruled yadav voluntarily gave membership party indulging anti party activities \n",
      "실제 요약 : yadav from illegal kejriwal\n",
      "예측 요약 :  will not be to fight kejriwal\n",
      "\n",
      "\n",
      "원문 : two men arrested allegedly chasing woman bike nearly km passing comments wednesday night mumbai also tried get woman auto driver stop tweeted photos alerted police accused fled seeing policemen later traced residence \n",
      "실제 요약 : arrested for woman for km in mumbai\n",
      "예측 요약 :  arrested for woman driver in mumbai\n",
      "\n",
      "\n",
      "원문 : indian cricket team captain virat kohli led heart fc celebrity football match bollywood stars performed scoring side sixth goal kohli ball goalkeeper head help side three goal advantage started punjabi song played \n",
      "실제 요약 : kohli does after goal in\n",
      "예측 요약 :  kohli celebrates while in balls in\n",
      "\n",
      "\n",
      "원문 : consumer commission delhi directed private hospital doctor give lakh compensation patient lost four fingers right hand given wrong years ago commission noted year old boy right handed writing playing \n",
      "실제 요약 : boy who lost to wrong yrs ago gets\n",
      "예측 요약 :  hospital to pay lakh for lakh\n",
      "\n",
      "\n"
     ]
    }
   ],
   "source": [
    "for i in range(50, 100):\n",
    "    print(\"원문 :\", seq2text(encoder_input_test[i]))\n",
    "    print(\"실제 요약 :\", seq2summary(decoder_input_test[i]))\n",
    "    print(\"예측 요약 :\", decode_sequence(encoder_input_test[i].reshape(1, text_max_len)))\n",
    "    print(\"\\n\")"
   ]
  },
  {
   "cell_type": "markdown",
   "id": "cff218cc",
   "metadata": {},
   "source": [
    "## Step 5. Summa을 이용해서 추출적 요약해보기\n",
    "추상적 요약은 추출적 요약과는 달리 문장의 표현력을 다양하게 가져갈 수 있지만, 추출적 요약에 비해서 난이도가 높아요. 반대로 말하면 추출적 요약은 추상적 요약에 비해 난이도가 낮고 기존 문장에서 문장을 꺼내오는 것이므로 잘못된 요약이 나올 가능성이 낮아요.  \n",
    "Summa의 summarize를 사용하여 추출적 요약을 해보세요."
   ]
  },
  {
   "cell_type": "code",
   "execution_count": 52,
   "id": "e6dcd409",
   "metadata": {},
   "outputs": [],
   "source": [
    "import requests  # HTTP 요청을 보낼 수 있는 라이브러리로, 웹에서 데이터를 가져오거나 API 호출 시 사용\n",
    "from summa.summarizer import summarize  # Summa 패키지의 요약 기능을 제공하는 모듈로, 텍스트 요약에 사용"
   ]
  },
  {
   "cell_type": "code",
   "execution_count": 50,
   "id": "e6dde9a6",
   "metadata": {},
   "outputs": [],
   "source": [
    "# 지정된 URL에서 CSV 파일을 로컬에 다운로드\n",
    "urllib.request.urlretrieve(\n",
    "    \"https://raw.githubusercontent.com/sunnysai12345/News_Summary/master/news_summary_more.csv\",\n",
    "    filename=\"news_summary_more.csv\"\n",
    ")\n",
    "\n",
    "# 다운로드한 CSV 파일을 pandas 데이터프레임으로 읽어오기 (인코딩은 iso-8859-1 형식 사용)\n",
    "data = pd.read_csv('news_summary_more.csv', encoding='iso-8859-1')\n"
   ]
  },
  {
   "cell_type": "code",
   "execution_count": 51,
   "id": "d5a7e2c8",
   "metadata": {},
   "outputs": [
    {
     "name": "stdout",
     "output_type": "stream",
     "text": [
      "원문 : Saurav Kant, an alumnus of upGrad and IIIT-B's PG Program in Machine learning and Artificial Intelligence, was a Sr Systems Engineer at Infosys with almost 5 years of work experience. The program and upGrad's 360-degree career support helped him transition to a Data Scientist at Tech Mahindra with 90% salary hike. upGrad's Online Power Learning has powered 3 lakh+ careers.\n",
      "실제 요약 : upGrad learner switches to career in ML & Al with 90% salary hike\n",
      "추출적 요약 : upGrad's Online Power Learning has powered 3 lakh+ careers.\n",
      "\n",
      "\n",
      "원문 : Kunal Shah's credit card bill payment platform, CRED, gave users a chance to win free food from Swiggy for one year. Pranav Kaushik, a Delhi techie, bagged this reward after spending 2000 CRED coins. Users get one CRED coin per rupee of bill paid, which can be used to avail rewards from brands like Ixigo, BookMyShow, UberEats, Cult.Fit and more.\n",
      "실제 요약 : Delhi techie wins free food from Swiggy for one year on CRED\n",
      "추출적 요약 : Users get one CRED coin per rupee of bill paid, which can be used to avail rewards from brands like Ixigo, BookMyShow, UberEats, Cult.Fit and more.\n",
      "\n",
      "\n",
      "원문 : New Zealand defeated India by 8 wickets in the fourth ODI at Hamilton on Thursday to win their first match of the five-match ODI series. India lost an international match under Rohit Sharma's captaincy after 12 consecutive victories dating back to March 2018. The match witnessed India getting all out for 92, their seventh lowest total in ODI cricket history.\n",
      "실제 요약 : New Zealand end Rohit Sharma-led India's 12-match winning streak\n",
      "추출적 요약 : The match witnessed India getting all out for 92, their seventh lowest total in ODI cricket history.\n",
      "\n",
      "\n",
      "원문 : With Aegon Life iTerm Insurance plan, customers can enjoy tax benefits on your premiums paid and save up to Ã¢ÂÂ¹46,800^ on taxes. The plan provides life cover up to the age of 100 years. Also, customers have options to insure against Critical Illnesses, Disability and Accidental Death Benefit Rider with a life cover up to the age of 80 years.\n",
      "실제 요약 : Aegon life iTerm insurance plan helps customers save tax\n",
      "추출적 요약 : Also, customers have options to insure against Critical Illnesses, Disability and Accidental Death Benefit Rider with a life cover up to the age of 80 years.\n",
      "\n",
      "\n",
      "원문 : Speaking about the sexual harassment allegations against Rajkumar Hirani, Sonam Kapoor said, \"I've known Hirani for many years...What if it's not true, the [#MeToo] movement will get derailed.\" \"In the #MeToo movement, I always believe a woman. But in this case, we need to reserve our judgment,\" she added. Hirani has been accused by an assistant who worked in 'Sanju'.\n",
      "실제 요약 : Have known Hirani for yrs, what if MeToo claims are not true: Sonam\n",
      "추출적 요약 : Speaking about the sexual harassment allegations against Rajkumar Hirani, Sonam Kapoor said, \"I've known Hirani for many years...What if it's not true, the [#MeToo] movement will get derailed.\" \"In the #MeToo movement, I always believe a woman.\n",
      "\n",
      "\n",
      "원문 : Pakistani singer Rahat Fateh Ali Khan has denied receiving any notice from the Enforcement Directorate over allegedly smuggling foreign currency out of India. \"It would have been better if the authorities would have served the notice first if any and then publicised this,\" reads a press release issued on behalf of Rahat. The statement further called the allegation \"bizarre\".\n",
      "실제 요약 : Rahat Fateh Ali Khan denies getting notice for smuggling currency\n",
      "추출적 요약 : Pakistani singer Rahat Fateh Ali Khan has denied receiving any notice from the Enforcement Directorate over allegedly smuggling foreign currency out of India.\n",
      "\n",
      "\n",
      "원문 : India recorded their lowest ODI total in New Zealand after getting all out for 92 runs in 30.5 overs in the fourth ODI at Hamilton on Thursday. Seven of India's batsmen were dismissed for single-digit scores, while their number ten batsman Yuzvendra Chahal top-scored with 18*(37). India's previous lowest ODI total in New Zealand was 108.\n",
      "실제 요약 : India get all out for 92, their lowest ODI total in New Zealand\n",
      "추출적 요약 : India's previous lowest ODI total in New Zealand was 108.\n",
      "\n",
      "\n",
      "원문 : Weeks after ex-CBI Director Alok Verma told the Department of Personnel and Training to consider him retired, the Home Ministry asked him to join work on the last day of his fixed tenure as Director on Thursday. The ministry directed him to immediately join as DG, Fire Services, the post he was transferred to after his removal as CBI chief.\n",
      "실제 요약 : Govt directs Alok Verma to join work 1 day before his retirement\n",
      "추출적 요약 : \n",
      "\n",
      "\n",
      "원문 : Andhra Pradesh CM N Chandrababu Naidu has said, \"When I met then US President Bill Clinton, I addressed him as Mr Clinton, not as 'sir'. (PM Narendra) Modi is my junior in politics...I addressed him as sir 10 times.\" \"I did this...to satisfy his ego in the hope that he will do justice to the state,\" he added.\n",
      "실제 요약 : Called PM Modi 'sir' 10 times to satisfy his ego: Andhra CM\n",
      "추출적 요약 : \n",
      "\n",
      "\n",
      "원문 : Congress candidate Shafia Zubair won the Ramgarh Assembly seat in Rajasthan, by defeating BJP's Sukhwant Singh with a margin of 12,228 votes in the bypoll. With this victory, Congress has taken its total to 100 seats in the 200-member assembly. The election to the Ramgarh seat was delayed due to the death of sitting MLA and BSP candidate Laxman Singh.\n",
      "실제 요약 : Cong wins Ramgarh bypoll in Rajasthan, takes total to 100 seats\n",
      "추출적 요약 : Congress candidate Shafia Zubair won the Ramgarh Assembly seat in Rajasthan, by defeating BJP's Sukhwant Singh with a margin of 12,228 votes in the bypoll.\n",
      "\n",
      "\n",
      "원문 : Two minor cousins in Uttar Pradesh's Gorakhpur were allegedly repeatedly burnt with tongs and forced to eat human excreta by their family for being friends with two boys from the same school. The cousins revealed their ordeal to the police and Child Welfare Committee after being brought back to Gorakhpur from Nepal, where they had fled to escape the torture.\n",
      "실제 요약 : UP cousins fed human excreta for friendship with boys\n",
      "추출적 요약 : \n",
      "\n",
      "\n",
      "원문 : Isha Ghosh, an 81-year-old member of Bharat Scouts and Guides (BSG), has been imparting physical and mental training to schoolchildren in Jharkhand for several decades. Chaibasa-based Ghosh reportedly walks seven kilometres daily and spends eight hours conducting physical training, apart from climbing and yoga sessions. She says, \"One should do something for society till one's last breath.\"\n",
      "실제 요약 : 81-yr-old woman conducts physical training in J'khand schools\n",
      "추출적 요약 : Isha Ghosh, an 81-year-old member of Bharat Scouts and Guides (BSG), has been imparting physical and mental training to schoolchildren in Jharkhand for several decades.\n",
      "\n",
      "\n",
      "원문 : Urging saints and seers at the Kumbh Mela to quit smoking, Yoga guru Ramdev said, \"We follow Ram and Krishna who never smoked in their life then why should we?\" Making them take a pledge to quit tobacco, he collected chillum (clay pipe) from several sadhus. He said he will deposit the chillums for display at a museum he'll build.\n",
      "실제 요약 : Ram, Krishna didn't smoke, why should we: Ramdev to sadhus at Kumbh\n",
      "추출적 요약 : \n",
      "\n",
      "\n",
      "원문 : Former stripper and regional sales director of a pharmaceutical company, Sunrise Lee, gave a doctor a lap dance in a nightclub to persuade him to prescribe an addictive fentanyl spray in 2012, the company's sales representative told a US court. She said she saw Lee \"sitting on [doctor's] lap, kind of bouncing around.\" Lee has been accused of bribing doctors.\n",
      "실제 요약 : Pharma exec gave doctor a lap dance to sell medicine in US: Witness\n",
      "추출적 요약 : \n",
      "\n",
      "\n",
      "원문 : Reliance Industries' Chairman Mukesh Ambani's daughter Isha Ambani, who got married last month, said she only cried at her 'bidaai' because she felt peer pressure as everyone was crying, especially her parents. \"I was emotional too but everyone around me would cry all the time,\" she added. \"It was a very emotional affair for everyone in my family,\" said Isha.\n",
      "실제 요약 :  I only cried at my 'bidaai' as I felt peer pressure: Isha Ambani\n",
      "추출적 요약 : \"It was a very emotional affair for everyone in my family,\" said Isha.\n",
      "\n",
      "\n",
      "원문 : Louis Vuitton owner LVMH, which makes high-end beverages like MoÃÂ«t & Chandon champagne and Hennessy cognac, said it's stockpiling four months' worth of wine and spirits in UK in preparation for Brexit. \"We're ready for worst case scenario if there are difficulties with deliveries,\" the French luxury giant said. The UK is scheduled to leave the EU on March 29.\n",
      "실제 요약 : Louis Vuitton owner to stockpile 4 months of wine, spirits in UK\n",
      "추출적 요약 : Louis Vuitton owner LVMH, which makes high-end beverages like MoÃÂ«t & Chandon champagne and Hennessy cognac, said it's stockpiling four months' worth of wine and spirits in UK in preparation for Brexit.\n",
      "\n",
      "\n",
      "원문 : Filmmaker Karan Johar and actress Tabu turned showstoppers for Gaurav Gupta on the opening night of LakmÃÂ© Fashion Week Summer/ Resort 2019. While Johar wore a red sequinned jacket with black pants, Tabu walked the ramp in a grey embellished gown. The fashion show, which began on January 29, will continue till February 3.\n",
      "실제 요약 : Karan Johar, Tabu turn showstoppers on opening night of LFW\n",
      "추출적 요약 : Filmmaker Karan Johar and actress Tabu turned showstoppers for Gaurav Gupta on the opening night of LakmÃÂ© Fashion Week Summer/ Resort 2019.\n",
      "\n",
      "\n",
      "원문 : In a jibe at Congress President Rahul Gandhi, PM Narendra Modi on Wednesday said those on \"bail will have to go to jail.\" PM Modi added, \"He is out on bail and his associates too are facing charges...I know they will be convicted one day.\" The PM claimed he'd waged a war on corruption because he's from a common household. \n",
      "실제 요약 : Those on bail will go to jail: PM Modi takes jibe at Rahul\n",
      "추출적 요약 : \n",
      "\n",
      "\n",
      "원문 : Days after he threatened to step down from his post if Congress MLAs continue \"crossing the line,\" Karnataka Chief Minister HD Kumaraswamy accused them of taking potshots and asked, \"How many more days can I tolerate such stuff?\" Kumaraswamy, who made the statements after a Congress MLA demanded that Siddaramaiah be made CM again, said, \"Power is ephemeral.\"\n",
      "실제 요약 : How long can I tolerate Congress leaders' potshots: K'taka CM\n",
      "추출적 요약 : \n",
      "\n",
      "\n",
      "원문 : Union Minister Dharmendra Pradhan on Wednesday claimed the illegal mining mafia in Odisha operates under the control of CM Naveen Patnaik and state Congress chief Niranjan Patnaik. He added, \"The time has come for the people of Odisha to put a full stop to their activities...The time has come for us to ask for an explanation from this corrupt government.\"\n",
      "실제 요약 : Odisha CM Patnaik controls mining mafia: Union Minister\n",
      "추출적 요약 : \n",
      "\n",
      "\n",
      "원문 : Claiming there is a dearth of ideas among opposition parties, Prime Minister Narendra Modi on Wednesday said, \"The opposition talks only about Modi the whole day, I suspect they even dream about me.\" PM Modi, who was addressing the New India Youth Conclave inÃ¢ÂÂ Surat, added that the opposition parties have only one agenda which is \"Modi\". \n",
      "실제 요약 : I think the opposition even dreams about me: PM Modi\n",
      "추출적 요약 : \n",
      "\n",
      "\n",
      "원문 : The Indian Space Research Organisation on Wednesday unveiled Human Space Flight Centre in Bengaluru for its Ã¢ÂÂ¹10,000-crore manned space mission 'Gaganyaan' scheduled for 2021. ISRO said the centre will be responsible for development of engineering systems for crew survival in space and crew selection and training. It'll also pursue activities for sustained human space flight missions, ISRO added.\n",
      "실제 요약 : ISRO unveils Bengaluru centre for manned space mission \n",
      "추출적 요약 : It'll also pursue activities for sustained human space flight missions, ISRO added.\n",
      "\n",
      "\n",
      "원문 : At least 12 people have been killed and 170 others have been injured in Saudi Arabia this week due to flooding from heavy rain. The emergency services rescued 271 people from the flooded areas, more than half of them in Tabuk. Heavy rains hit mainly western and northwestern parts of Saudi Arabia, near its border with Jordan.\n",
      "실제 요약 : 12 killed, 170 injured in Saudi Arabia floods\n",
      "추출적 요약 : At least 12 people have been killed and 170 others have been injured in Saudi Arabia this week due to flooding from heavy rain.\n",
      "\n",
      "\n",
      "원문 : Reliance Industries' Chairman Mukesh Ambani's daughter Isha Ambani has featured on the cover of the February edition of Vogue India. She's dressed in a white shirt dress and black ruffled skirt by Australian designer Toni Maticevski, while accessorising her look with a Misho ring. In the cover story on her, Isha has spoken about her work and life after marriage.\n",
      " \n",
      "실제 요약 : Isha Ambani features on February cover of Vogue magazine\n",
      "추출적 요약 : Reliance Industries' Chairman Mukesh Ambani's daughter Isha Ambani has featured on the cover of the February edition of Vogue India.\n",
      "\n",
      "\n",
      "원문 : Indian Oil Corporation on Wednesday said it's looking for an annual deal to buy US crude as it seeks to broaden oil purchasing options. This comes amid uncertainties over Iran imports. The US had in November granted a six-month waiver to India from sanctions against Iran and restricted the country's monthly intake of Iranian oil to 3,00,000 barrels per day.\n",
      "\n",
      "\n",
      "실제 요약 : Indian Oil looking for annual deal to buy crude from US\n",
      "추출적 요약 : The US had in November granted a six-month waiver to India from sanctions against Iran and restricted the country's monthly intake of Iranian oil to 3,00,000 barrels per day.\n",
      "\n",
      "\n",
      "원문 : Former Windies fast bowler Curtly Ambrose dismissed seven Australian batsmen within a span of 32 balls giving away just one run, in a Test match on January 30, 1993. Ambrose's spell helped his team bowl out Australia for 119 in the first innings, after being 85 for 2 at one point. Ambrose ended with first-innings figures of 18-9-25-7.\n",
      "실제 요약 : Pacer once took 7 wickets for just 1 run in 32 balls in a Test\n",
      "추출적 요약 : Ambrose ended with first-innings figures of 18-9-25-7.\n",
      "\n",
      "\n",
      "원문 : A London zoo is offering people to name a cockroach after their exes on Valentine's Day for ÃÂ£1.50 (nearly Ã¢ÂÂ¹140). \"For those that don't quite require revenge, there's another way to make you feel better about getting back at your ex,\" the zoo said in a statement. The names will appear on zoo's 'roach board' on February 14. \n",
      "실제 요약 : UK zoo offers people to name cockroach after their ex on Valentine's\n",
      "추출적 요약 : The names will appear on zoo's 'roach board' on February 14.\n",
      "\n",
      "\n",
      "원문 : Stand-in captain Rohit Sharma has become the 14th Indian cricketer to play 200 ODIs, achieving the feat after taking the field against New Zealand in fourth ODI at Hamilton on Thursday. The 31-year-old had made his ODI debut on June 23, 2007, against Ireland in Belfast. Rohit scored 7,799 runs in his first 199 ODIs at an average of 48.14.\n",
      "실제 요약 : Rohit Sharma becomes 14th Indian cricketer to play 200 ODIs\n",
      "추출적 요약 : Rohit scored 7,799 runs in his first 199 ODIs at an average of 48.14.\n",
      "\n",
      "\n",
      "원문 : Batsman Shubman Gill has become the 227th cricketer to represent India in ODI cricket, achieving the feat against New Zealand in the fourth ODI at Hamilton on Thursday. The 19-year-old received his maiden ODI cap from former captain MS Dhoni. Notably, Shubman was named Player of the Under-19 World Cup in New Zealand last year.\n",
      "실제 요약 : 19-year-old Shubman Gill becomes India's 227th ODI cricketer\n",
      "추출적 요약 : Notably, Shubman was named Player of the Under-19 World Cup in New Zealand last year.\n",
      "\n",
      "\n",
      "원문 : Investigators searching for a lost plane carrying Argentine forward Emiliano Sala found two seat cushions on French coast that \"likely\" belonged to the aircraft. The investigators said they'll now launch an underwater seabed search for aircraft wreckage. The Cardiff City footballer was travelling from France's Nantes to Wales' Cardiff when his plane disappeared over English Channel on January 21.\n",
      "실제 요약 : 2 seat cushions from 'missing plane carrying footballer' found\n",
      "추출적 요약 : Investigators searching for a lost plane carrying Argentine forward Emiliano Sala found two seat cushions on French coast that \"likely\" belonged to the aircraft.\n",
      "\n",
      "\n",
      "원문 : Italian third division football side Lucchese's head coach Giancarlo Favarin has been banned for five months for headbutting Alessandria's assistant coach Gaetano Mancino during a brawl following the teams' 2-2 draw on Sunday. Mancino was caught off-balance and knocked to the ground after the headbutt. Earlier in the match, Favarin had told his own player to break an opponent's legs.\n",
      "실제 요약 : Italian coach knocks rival down with headbutt, banned for 5 months\n",
      "추출적 요약 : Italian third division football side Lucchese's head coach Giancarlo Favarin has been banned for five months for headbutting Alessandria's assistant coach Gaetano Mancino during a brawl following the teams' 2-2 draw on Sunday.\n",
      "\n",
      "\n",
      "원문 : Cyclists taking part in National Track Cycling Championship in Jaipur opted to sleep on the floor inside the stadium instead of hotels over expensive cycles. The organisers had booked hotels but they didn't have the provision for cyclists to keep their bikes inside. A national gold medallist said their cycles cost between Ã¢ÂÂ¹5-9 lakh and once damaged, they become non-repairable. \n",
      "실제 요약 : Cyclists sleep on stadium floor instead of hotel over costly cycles\n",
      "추출적 요약 : Cyclists taking part in National Track Cycling Championship in Jaipur opted to sleep on the floor inside the stadium instead of hotels over expensive cycles.\n",
      "\n",
      "\n",
      "원문 : Silvia Grecco, a 56-year-old Brazilian mother narrates her local football team Palmeiras' matches live to her 12-year-old blind and autistic son Nickollas from the stands. \"I describe details: this player is wearing short sleeves...colour of...football boots, hair colour...Everything I see and feel, I tell him, even when I need to curse the referee!\" Grecco said after a recent match.\n",
      "실제 요약 : Brazilian mother narrates football matches to blind son from stands\n",
      "추출적 요약 : \n",
      "\n",
      "\n",
      "원문 : A TechCrunch report has claimed that IndiaÃ¢ÂÂs largest bank SBI secured a passwordless server \"overnight\" on being alerted it allowed anyone to access phone numbers, bank balances, and transactions of millions of its customers. The Mumbai-based server was containing two months of data from SBI Quick, an SMS and call-based system used to request basic information about accounts, TechCrunch revealed.\n",
      "실제 요약 : SBI left account data of millions of users unprotected: Report\n",
      "추출적 요약 : \n",
      "\n",
      "\n",
      "원문 : Rahul Gandhi has replied to Goa CM Manohar Parrikar's letter, which accused the Congress President of using his \"visit to an ailing man for political gains\". \"He's under immense pressure from the PM after our meeting and needs to demonstrate his loyalty by attacking me,\" Gandhi wrote in his letter. Parrikar had clarified he didn't discuss Rafale deal with Rahul.\n",
      "실제 요약 : CM Parrikar under pressure from PM after our Goa meet: Rahul\n",
      "추출적 요약 : Rahul Gandhi has replied to Goa CM Manohar Parrikar's letter, which accused the Congress President of using his \"visit to an ailing man for political gains\".\n",
      "\n",
      "\n",
      "원문 : Twenty-seven-year-old Mohammed Mahuwala was arrested in Indore on Wednesday for allegedly cheating e-commerce giant Amazon of nearly Ã¢ÂÂ¹30 lakh. Mahuwala was a member of a gang who ordered costly gadgets from Amazon. \"[They] used to get refund of the amount paid...by saying the parcel...was empty. In reality, these devices were taken out from parcel and sold...to local shopkeepers,\" said police.\n",
      "실제 요약 : Man arrested for cheating Amazon of Ã¢ÂÂ¹30 lakh by taking refunds\n",
      "추출적 요약 : Mahuwala was a member of a gang who ordered costly gadgets from Amazon.\n",
      "\n",
      "\n",
      "원문 : AgustaWestland chopper scam co-accused Rajiv Saxena was extradited to India from UAE on Wednesday. He had been evading the Enforcement Directorate's summons claiming he was suffering from leukaemia but had moved an anti-money laundering court for anticipatory bail in December, stating he had never been summoned at his Dubai address. Saxena's lawyers alleged he had been \"illegally extradited\". \n",
      "실제 요약 : AgustaWestland scam accused Rajiv Saxena extradited to India\n",
      "추출적 요약 : AgustaWestland chopper scam co-accused Rajiv Saxena was extradited to India from UAE on Wednesday.\n",
      "\n",
      "\n",
      "원문 : Afghan President Ashraf Ghani has said the \"keys to war\" are in Pakistan's Islamabad, Quetta and Rawalpindi, accusing the country of providing safe havens to militants, including those belonging to the Taliban. Ghani added the \"key to peace was in Afghanistan\". His comments came amid the talks between the US and the Taliban to end the 17-year war in Afghanistan.\n",
      "실제 요약 : Pakistan holds 'keys to war': Afghanistan\n",
      "추출적 요약 : Afghan President Ashraf Ghani has said the \"keys to war\" are in Pakistan's Islamabad, Quetta and Rawalpindi, accusing the country of providing safe havens to militants, including those belonging to the Taliban.\n",
      "\n",
      "\n",
      "원문 : A Singapore-based insurance agent has been jailed for two years and five months for threatening to harm his clients unless they paid him in bitcoins. The 36-year-old set up an email account, and signed the messages as 'Lord Voldemort', a fictional character from the Harry Potter series. Ye Lin Myint targeted about 33 people, including those who cancelled insurance policies.\n",
      "실제 요약 : Insurance agent 'Lord Voldemort' jailed for threatening clients\n",
      "추출적 요약 : A Singapore-based insurance agent has been jailed for two years and five months for threatening to harm his clients unless they paid him in bitcoins.\n",
      "\n",
      "\n",
      "원문 : Gabrielle Reilly, a 22-year-old US woman, created earrings for her Apple AirPods and put it up for sale online for $20 (about Ã¢ÂÂ¹1,500). \"I absolutely refuse to lose them (AirPods)...So I made earrings,\" she explained. The earrings, which took her over an hour to make, debuted in a video on Twitter that has since garnered over three million views.\n",
      "실제 요약 : Woman turns Apple AirPods into earrings to avoid losing them\n",
      "추출적 요약 : \"I absolutely refuse to lose them (AirPods)...So I made earrings,\" she explained.\n",
      "\n",
      "\n",
      "원문 : Ex-ICICI Bank CEO Chanda Kochhar said she's \"utterly disappointed, hurt and shocked\" by the bank's decision to terminate her. Kochhar said she served ICICI for 34 years with utmost honesty and integrity and that ultimately truth will prevail. Adding that she hasn't been given a copy of the independent probe report, Kochhar said none of ICICI's credit decisions are unilateral\n",
      "실제 요약 : Shocked, hurt by ICICI's decision, truth will prevail: Kochhar\n",
      "추출적 요약 : Adding that she hasn't been given a copy of the independent probe report, Kochhar said none of ICICI's credit decisions are unilateral\n",
      "\n",
      "\n",
      "원문 : Swedish multinational fast-fashion brand Hennes & Mauritz AB (H&M) has hired Christopher Wylie, the whistleblower who exposed Facebook's Cambridge Analytica data scandal. WylieÃ¢ÂÂs focus will be to help get better insights on customers, products and markets and support work on sustainable and ethical artificial intelligence, H&M spokesperson said. Wylie is a former employee of Cambridge Analytica.\n",
      "실제 요약 : Fashion brand H&M hires Facebook data scandal whistleblower\n",
      "추출적 요약 : Swedish multinational fast-fashion brand Hennes & Mauritz AB (H&M) has hired Christopher Wylie, the whistleblower who exposed Facebook's Cambridge Analytica data scandal.\n",
      "\n",
      "\n",
      "원문 : Micro-blogging platform Twitter is testing a new feature on Android to put news on the top of a user's timeline. \"With this update, weÃ¢ÂÂre making it easier for people to see news and stories their followers have been discussing,\" Product Manager Walter Gurzynski said. The feature comes alongside a prompt saying, \"Catch up on what's happened while you were away.\"\n",
      "실제 요약 : Twitter testing news-first timeline feature on Android\n",
      "추출적 요약 : Micro-blogging platform Twitter is testing a new feature on Android to put news on the top of a user's timeline.\n",
      "\n",
      "\n",
      "원문 : Samsung has started mass producing its one terabyte 'embedded Universal Flash Storage (eUFS) 2.1' technology for \"use in next-generation mobile applications\", which it claims is the industry's first such eUFS. The company added the new eUFS will let smartphones store 260 10-minute videos shot in 4K UHD format. It'll be sized the same as the previous 512GB version, Samsung said.\n",
      "실제 요약 : Samsung builds world's first 1TB storage chip for smartphones \n",
      "추출적 요약 : Samsung has started mass producing its one terabyte 'embedded Universal Flash Storage (eUFS) 2.1' technology for \"use in next-generation mobile applications\", which it claims is the industry's first such eUFS.\n",
      "\n",
      "\n",
      "원문 : Prime Minister Narendra Modi on Wednesday said the people with 'negative mindset' are questioning him and his government for floating pro-poor schemes. He added negative mindset people are raising doubts about schemes such as building toilets and providing free gas connections to the poor. He further said that negative mentality laced with a vested interest still exists in the country.\n",
      "실제 요약 : People with 'negative mindset' quizzing pro-poor schemes: PM\n",
      "추출적 요약 : Prime Minister Narendra Modi on Wednesday said the people with 'negative mindset' are questioning him and his government for floating pro-poor schemes.\n",
      "\n",
      "\n",
      "원문 : Union Minister Anantkumar Hegde took a dig at Congress President Rahul Gandhi by calling him a \"hybrid specimen\" who has no clue about religion. \"A father who's...Muslim, a mother who's...Christian and the son is supposed to be...Brahmin. How is that even possible?\" he said. He added such \"hybrid specimen\" cannot be found in any laboratory in the world.\n",
      "실제 요약 : Rahul is hybrid specimen, has no clue about religion: Hegde\n",
      "추출적 요약 : Union Minister Anantkumar Hegde took a dig at Congress President Rahul Gandhi by calling him a \"hybrid specimen\" who has no clue about religion.\n",
      "\n",
      "\n",
      "원문 : Several parts of the US are set to experience record low temperatures as the polar vortex hit the Upper Midwest, with more than 200 million people expected to experience below-freezing temperatures this week. Temperatures throughout the Upper Midwest are expected to be at least 20-40Ã¢ÂÂ below zero. Government offices and schools have been closed in several areas.\n",
      "실제 요약 : Extreme cold to affect 200 million people as polar vortex hits US\n",
      "추출적 요약 : Several parts of the US are set to experience record low temperatures as the polar vortex hit the Upper Midwest, with more than 200 million people expected to experience below-freezing temperatures this week.\n",
      "\n",
      "\n",
      "원문 : The police on Wednesday registered cases against 13 persons, including a woman leader of Hindu Mahasabha, in Aligarh for firing at an effigy of Mahatma Gandhi with an air pistol. \"The incident took place in a house in Naurangabad locality of the city,\" Senior Superintendent of Police said. The video of the event went viral on social media, he added.\n",
      "실제 요약 : 13 booked for firing air shots at Mahatma Gandhi's effigy\n",
      "추출적 요약 : The police on Wednesday registered cases against 13 persons, including a woman leader of Hindu Mahasabha, in Aligarh for firing at an effigy of Mahatma Gandhi with an air pistol.\n",
      "\n",
      "\n",
      "원문 : Railway police has rescued a woman travelling on a train in Chennai who got her leg stuck inside the commode of a toilet. After being caught inside the commode hole, she struggled to remove her leg and following failed attempts, she shouted for help, reports said. Railway police used a cutter to pry open the commode and freed her leg.\n",
      "실제 요약 : Railway police rescues woman with leg stuck in train toilet\n",
      "추출적 요약 : Railway police has rescued a woman travelling on a train in Chennai who got her leg stuck inside the commode of a toilet.\n",
      "\n",
      "\n",
      "원문 : The US on Tuesday began returning asylum seekers to Mexico, sending back a migrant from a Central American nation and called the move a \"response to the illegal migration crisis\" faced by it. Under its Migrant Protection Protocols policy, the US will return certain migrants who cross into the country illegally back to Mexico while their asylum requests are processed.\n",
      "실제 요약 : US begins sending back asylum seekers to Mexico\n",
      "추출적 요약 : \n",
      "\n",
      "\n"
     ]
    }
   ],
   "source": [
    "# 데이터프레임에서 헤드라인과 텍스트 데이터를 순회하며 요약을 출력\n",
    "for idx, (head, text) in enumerate(zip(data['headlines'], data['text'])):\n",
    "    if idx == 50:  # 인덱스가 50이면 반복 종료 (처음 50개만 처리)\n",
    "        break\n",
    "    print(\"원문 :\", text)  # 원문 출력\n",
    "    print(\"실제 요약 :\", head)  # 실제 헤드라인 (요약) 출력\n",
    "    print(\"추출적 요약 :\", summarize(text, ratio=0.35))  # 추출적 요약 결과 출력 (원문의 35%로 요약)\n",
    "    print(\"\\n\")  # 각 기사 사이에 줄바꿈 추가\n"
   ]
  },
  {
   "cell_type": "markdown",
   "id": "13777b5d",
   "metadata": {},
   "source": [
    "## 회고\n",
    "### 김우찬 : 정말 어렵다. 퀘스트 제출물을 완성할 수 있음에 감사하다. 플러터는 다음 기회에..\n",
    "### 박단영 : 어제 참석하지 못해 이해하기 어려웠지만, 주어진 시간 내에 프로젝트를 완성할 수 있었다.\n",
    "### 조규원 : 노드에서 제공하는 방법 말고 다른 방법으로 시도해보려고 검색하고 gpt에 물어보면서 해봤는데 철처하게 멸망했다. 무언가 더 다듬으면 될 것 같은데 내 집중력이 부족했다."
   ]
  }
 ],
 "metadata": {
  "kernelspec": {
   "display_name": "Python 3 (ipykernel)",
   "language": "python",
   "name": "python3"
  },
  "language_info": {
   "codemirror_mode": {
    "name": "ipython",
    "version": 3
   },
   "file_extension": ".py",
   "mimetype": "text/x-python",
   "name": "python",
   "nbconvert_exporter": "python",
   "pygments_lexer": "ipython3",
   "version": "3.9.7"
  }
 },
 "nbformat": 4,
 "nbformat_minor": 5
}
