{
  "nbformat": 4,
  "nbformat_minor": 0,
  "metadata": {
    "colab": {
      "provenance": [],
      "include_colab_link": true
    },
    "kernelspec": {
      "name": "python3",
      "display_name": "Python 3"
    },
    "language_info": {
      "name": "python"
    }
  },
  "cells": [
    {
      "cell_type": "markdown",
      "metadata": {
        "id": "view-in-github",
        "colab_type": "text"
      },
      "source": [
        "<a href=\"https://colab.research.google.com/github/Noruzzang/AIFFEL_QUEST_cr/blob/master/PythonQuest01.ipynb\" target=\"_parent\"><img src=\"https://colab.research.google.com/assets/colab-badge.svg\" alt=\"Open In Colab\"/></a>"
      ]
    },
    {
      "cell_type": "markdown",
      "source": [
        "회문(palindrome)을 만들어서 회문인지 아닌지 확인하는 코드는?  \n",
        "회문일때 ->회문(true)입니다.  \n",
        "회문이 아닐때 -> 회문이 아닙니다(false). 가 출력되야한다.  \n",
        "\n",
        "\n",
        "회문: Level, 기러기, 처럼 앞뒤가 같은 단어/문장\n"
      ],
      "metadata": {
        "id": "hnHsD-8LrilY"
      }
    },
    {
      "cell_type": "code",
      "source": [
        "word = input('단어를 입력하세요: ')\n",
        "\n",
        "is_palindrome = True              # 변수 및 초깃값(True) 설정\n",
        "for i in range(len(word) // 2):   # 입력받은 문자 길이의 절반까지 반복\n",
        "  if word[i]  != word[-1 - i]:    # 단어의 맨 처음과 맨 마지막부터 비교\n",
        "    is_palindrome = False         # 서로 다르면 회문이 아니므로 False\n",
        "    break\n",
        "\n",
        "print(is_palindrome)              # 회문인지 아닌지를 출력\n",
        "\n",
        "\n"
      ],
      "metadata": {
        "colab": {
          "base_uri": "https://localhost:8080/"
        },
        "id": "SAtbtk5HxtoY",
        "outputId": "aeb7f27c-aa38-49ec-c7d0-c4058ca11f66"
      },
      "execution_count": null,
      "outputs": [
        {
          "output_type": "stream",
          "name": "stdout",
          "text": [
            "단어를 입력하세요: 여보안경안보여\n",
            "True\n"
          ]
        }
      ]
    },
    {
      "cell_type": "code",
      "source": [
        "# if - else 사용한다면\n",
        "\n",
        "word = input('단어를 입력하세요: ')\n",
        "\n",
        "is_palindrome = True\n",
        "\n",
        "for i in range(len(word) // 2):\n",
        "    if word[i] == word[-1 -i]:\n",
        "        is_palindrome = True\n",
        "    else:\n",
        "        is_palindrome = False\n",
        "\n",
        "print(is_palindrome)\n"
      ],
      "metadata": {
        "id": "TQ-e4aUf1bbS",
        "colab": {
          "base_uri": "https://localhost:8080/"
        },
        "outputId": "9395b502-52cb-4d27-b962-ec707294419a"
      },
      "execution_count": null,
      "outputs": [
        {
          "output_type": "stream",
          "name": "stdout",
          "text": [
            "단어를 입력하세요: 소주만병만주소\n",
            "True\n"
          ]
        }
      ]
    }
  ]
}